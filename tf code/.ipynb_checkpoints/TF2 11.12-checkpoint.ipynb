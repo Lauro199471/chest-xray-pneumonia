{
 "cells": [
  {
   "cell_type": "markdown",
   "metadata": {
    "colab_type": "text",
    "id": "yvbJ5VupUBkA"
   },
   "source": [
    "# MNIST"
   ]
  },
  {
   "cell_type": "code",
   "execution_count": 1,
   "metadata": {
    "colab": {
     "base_uri": "https://localhost:8080/",
     "height": 52
    },
    "colab_type": "code",
    "executionInfo": {
     "elapsed": 2978,
     "status": "ok",
     "timestamp": 1573799488040,
     "user": {
      "displayName": "Lauro Cabral",
      "photoUrl": "https://lh3.googleusercontent.com/a-/AAuE7mBFI_BgQjgll5vTf5fj51ceLR9yEd2xsHY1z2SnupQ=s64",
      "userId": "02968030271474552516"
     },
     "user_tz": 480
    },
    "id": "daLbhOYkUBkC",
    "outputId": "2733561a-53f7-4825-d605-e5f8d2d36bf9"
   },
   "outputs": [
    {
     "name": "stdout",
     "output_type": "stream",
     "text": [
      "Tensorflow version:  2.0.0\n",
      "Num GPUs Available:  1\n",
      "You are using Python 3.7.\n"
     ]
    }
   ],
   "source": [
    "from __future__ import absolute_import, division, print_function, unicode_literals\n",
    "\n",
    "try:\n",
    "  # %tensorflow_version only exists in Colab.\n",
    "  %tensorflow_version 2.x\n",
    "except Exception:\n",
    "    pass\n",
    "    \n",
    "import datetime\n",
    "import tensorflow as tf\n",
    "import numpy as np\n",
    "from tensorflow import keras\n",
    "from tensorflow.keras.callbacks import TensorBoard, LearningRateScheduler\n",
    "from tensorflow.keras.models import Sequential\n",
    "from tensorflow.keras.layers import Conv2D, MaxPooling2D, Flatten, Dense\n",
    "from tensorflow.keras import datasets, layers, models, optimizers\n",
    "from tensorflow.keras.preprocessing.image import ImageDataGenerator\n",
    "\n",
    "import sys\n",
    "import os\n",
    "import matplotlib.pyplot as plt\n",
    "\n",
    "%matplotlib inline\n",
    "\n",
    "print(\"Tensorflow version: \",tf.__version__)\n",
    "os.environ[\"CUDA_VISIBLE_DEVICES\"]=\"0\" #for training on gpu\n",
    "print(\"Num GPUs Available: \", len(tf.config.experimental.list_physical_devices('GPU')))\n",
    "print(\"You are using Python {}.{}.\".format(sys.version_info.major, sys.version_info.minor))"
   ]
  },
  {
   "cell_type": "markdown",
   "metadata": {
    "colab_type": "text",
    "id": "QfOZ47xfu-R2"
   },
   "source": [
    "# Loading data from storage"
   ]
  },
  {
   "cell_type": "code",
   "execution_count": 2,
   "metadata": {
    "colab": {
     "base_uri": "https://localhost:8080/",
     "height": 121
    },
    "colab_type": "code",
    "executionInfo": {
     "elapsed": 3315,
     "status": "ok",
     "timestamp": 1573799488387,
     "user": {
      "displayName": "Lauro Cabral",
      "photoUrl": "https://lh3.googleusercontent.com/a-/AAuE7mBFI_BgQjgll5vTf5fj51ceLR9yEd2xsHY1z2SnupQ=s64",
      "userId": "02968030271474552516"
     },
     "user_tz": 480
    },
    "id": "R0PvkDZNUBkF",
    "outputId": "3cff970a-4f20-418d-da90-4dfbe06f2db0"
   },
   "outputs": [
    {
     "name": "stdout",
     "output_type": "stream",
     "text": [
      "train_data shape:  (60000, 28, 28, 1)\n",
      "train_label shape:  (60000, 1)\n",
      "\n",
      "\n",
      "test_data shape:  (10000, 28, 28, 1)\n",
      "test_label shape:  (10000, 1)\n"
     ]
    }
   ],
   "source": [
    "# Prepare MNIST Data\n",
    "(train_data, train_label), (test_data, test_label) = datasets.mnist.load_data()\n",
    "# Add new deminsion for TF2\n",
    "train_data  = train_data[...,tf.newaxis] \n",
    "test_data   = test_data[...,tf.newaxis] \n",
    "train_label = train_label[...,tf.newaxis] \n",
    "test_label  = test_label[...,tf.newaxis] \n",
    "\n",
    "# Convert to float32\n",
    "train_data,test_data = np.array(train_data,np.float32), np.array(test_data,np.float32)\n",
    "\n",
    "print(\"train_data shape: \", np.shape(train_data))\n",
    "print(\"train_label shape: \", np.shape(train_label))\n",
    "\n",
    "print(\"\\n\")\n",
    "\n",
    "print(\"test_data shape: \", np.shape(test_data))\n",
    "print(\"test_label shape: \", np.shape(test_label))\n",
    "\n",
    "# Get info for test data\n",
    "N_EXAMPLE,HEIGHT,WIDTH,NUM_CHANNELS = np.shape(test_data)\n",
    "batch_size = 128"
   ]
  },
  {
   "cell_type": "code",
   "execution_count": 3,
   "metadata": {
    "colab": {},
    "colab_type": "code",
    "id": "Hukg2wF6UBkH"
   },
   "outputs": [],
   "source": [
    "NUM_CLASSES = 10\n",
    "class_names = ['zero', 'one', 'two', 'three', 'four', 'five','six', 'seven', 'eight', 'nine']"
   ]
  },
  {
   "cell_type": "code",
   "execution_count": 4,
   "metadata": {
    "colab": {
     "base_uri": "https://localhost:8080/",
     "height": 102
    },
    "colab_type": "code",
    "executionInfo": {
     "elapsed": 4660,
     "status": "ok",
     "timestamp": 1573799489754,
     "user": {
      "displayName": "Lauro Cabral",
      "photoUrl": "https://lh3.googleusercontent.com/a-/AAuE7mBFI_BgQjgll5vTf5fj51ceLR9yEd2xsHY1z2SnupQ=s64",
      "userId": "02968030271474552516"
     },
     "user_tz": 480
    },
    "id": "3AJFzD4ShQKl",
    "outputId": "3fca699f-0e81-49cc-a59e-3145365836e1"
   },
   "outputs": [
    {
     "data": {
      "image/png": "[encoded data removed]",
      "text/plain": [
       "<Figure size 1080x1080 with 15 Axes>"
      ]
     },
     "metadata": {},
     "output_type": "display_data"
    }
   ],
   "source": [
    "def plotImages(dataset):\n",
    "    i=0\n",
    "    plt.figure(figsize=(15,15))\n",
    "    for image,label in train_dataset.take(15):\n",
    "        plt.subplot(1, 15, i+1)\n",
    "        plt.xticks([])\n",
    "        plt.yticks([])\n",
    "        plt.imshow(image.numpy()[:, :, 0].astype(np.float32), cmap=plt.cm.binary)\n",
    "        plt.xlabel(class_names[label.numpy()[0]])\n",
    "        i = i + 1\n",
    "    plt.tight_layout()\n",
    "    plt.show()\n",
    "\n",
    "train_dataset = tf.data.Dataset.from_tensor_slices((train_data, train_label))\n",
    "plotImages(train_dataset)"
   ]
  },
  {
   "cell_type": "markdown",
   "metadata": {
    "colab_type": "text",
    "id": "Qk5N1OR2usBr"
   },
   "source": [
    "# Data Pipeline"
   ]
  },
  {
   "cell_type": "markdown",
   "metadata": {
    "colab_type": "text",
    "id": "xvpMAJH-df-d"
   },
   "source": [
    "## Apply Data Augmentation\n"
   ]
  },
  {
   "cell_type": "code",
   "execution_count": 5,
   "metadata": {
    "colab": {
     "base_uri": "https://localhost:8080/",
     "height": 102
    },
    "colab_type": "code",
    "executionInfo": {
     "elapsed": 6014,
     "status": "ok",
     "timestamp": 1573799491119,
     "user": {
      "displayName": "Lauro Cabral",
      "photoUrl": "https://lh3.googleusercontent.com/a-/AAuE7mBFI_BgQjgll5vTf5fj51ceLR9yEd2xsHY1z2SnupQ=s64",
      "userId": "02968030271474552516"
     },
     "user_tz": 480
    },
    "id": "gp5-mxeUdhoA",
    "outputId": "b73094e1-3027-46ed-dd3d-fa5a198b7353"
   },
   "outputs": [
    {
     "data": {
      "image/png": "[encoded data removed]",
      "text/plain": [
       "<Figure size 1080x1080 with 15 Axes>"
      ]
     },
     "metadata": {},
     "output_type": "display_data"
    }
   ],
   "source": [
    "# Prepare MNIST Data\n",
    "(train_data, train_label), (test_data, test_label) = datasets.mnist.load_data()\n",
    "# Add new deminsion for TF2\n",
    "train_data  = train_data[...,tf.newaxis] \n",
    "test_data   = test_data[...,tf.newaxis] \n",
    "train_label = train_label[...,tf.newaxis] \n",
    "test_label  = test_label[...,tf.newaxis] \n",
    "\n",
    "# Convert to float32\n",
    "train_data,test_data = np.array(train_data,np.float32), np.array(test_data,np.float32)\n",
    "\n",
    "train_dataset = tf.data.Dataset.from_tensor_slices((train_data, train_label))\n",
    "################################################################################\n",
    "\n",
    "NUM_CHANNELS = 1\n",
    "def augmentation(x, y):\n",
    "    x = tf.image.resize_with_crop_or_pad(\n",
    "        x, HEIGHT + 8, WIDTH + 8)\n",
    "    x = tf.image.random_crop(x, [HEIGHT, WIDTH, NUM_CHANNELS])\n",
    "    x = tf.image.random_flip_left_right(x)\n",
    "    x = tf.image.random_flip_up_down(x)\n",
    "    return x, y\n",
    "\n",
    "train_dataset = train_dataset.map(augmentation)\n",
    "plotImages(train_dataset)"
   ]
  },
  {
   "cell_type": "markdown",
   "metadata": {
    "colab_type": "text",
    "id": "NUEYCxcEtlTr"
   },
   "source": [
    "## Shuffling"
   ]
  },
  {
   "cell_type": "code",
   "execution_count": 6,
   "metadata": {
    "colab": {
     "base_uri": "https://localhost:8080/",
     "height": 119
    },
    "colab_type": "code",
    "executionInfo": {
     "elapsed": 13369,
     "status": "ok",
     "timestamp": 1573799498491,
     "user": {
      "displayName": "Lauro Cabral",
      "photoUrl": "https://lh3.googleusercontent.com/a-/AAuE7mBFI_BgQjgll5vTf5fj51ceLR9yEd2xsHY1z2SnupQ=s64",
      "userId": "02968030271474552516"
     },
     "user_tz": 480
    },
    "id": "-ip7kkJmtmwb",
    "outputId": "9bac2034-cc10-4c5e-a709-2e94d74e0cdd"
   },
   "outputs": [
    {
     "name": "stdout",
     "output_type": "stream",
     "text": [
      "(60000, 28, 28, 1) (60000, 1)\n"
     ]
    },
    {
     "data": {
      "image/png": "[encoded data removed]",
      "text/plain": [
       "<Figure size 1080x1080 with 15 Axes>"
      ]
     },
     "metadata": {},
     "output_type": "display_data"
    }
   ],
   "source": [
    "# Prepare MNIST Data\n",
    "(train_data, train_label), (test_data, test_label) = datasets.mnist.load_data()\n",
    "# Add new deminsion for TF2\n",
    "train_data  = train_data[...,tf.newaxis] \n",
    "test_data   = test_data[...,tf.newaxis] \n",
    "train_label = train_label[...,tf.newaxis] \n",
    "test_label  = test_label[...,tf.newaxis] \n",
    "\n",
    "# Convert to float32\n",
    "train_data,test_data = np.array(train_data,np.float32), np.array(test_data,np.float32)\n",
    "\n",
    "train_dataset = tf.data.Dataset.from_tensor_slices((train_data, train_label))\n",
    "################################################################################\n",
    "\n",
    "NUM_CHANNELS = 1\n",
    "train_dataset = (train_dataset\n",
    "                 .map(augmentation)\n",
    "                 .shuffle(buffer_size=50000))\n",
    "print(train_data.shape, train_label.shape)\n",
    "plotImages(train_dataset)"
   ]
  },
  {
   "cell_type": "markdown",
   "metadata": {
    "colab_type": "text",
    "id": "DRFe6Nt0uKEI"
   },
   "source": [
    "## Normalization"
   ]
  },
  {
   "cell_type": "code",
   "execution_count": 7,
   "metadata": {
    "colab": {
     "base_uri": "https://localhost:8080/",
     "height": 191
    },
    "colab_type": "code",
    "executionInfo": {
     "elapsed": 20728,
     "status": "ok",
     "timestamp": 1573799505862,
     "user": {
      "displayName": "Lauro Cabral",
      "photoUrl": "https://lh3.googleusercontent.com/a-/AAuE7mBFI_BgQjgll5vTf5fj51ceLR9yEd2xsHY1z2SnupQ=s64",
      "userId": "02968030271474552516"
     },
     "user_tz": 480
    },
    "id": "hgOqpjIAuLoh",
    "outputId": "f363d0fb-9f2b-4368-ce5d-e495fd3b8a29"
   },
   "outputs": [
    {
     "name": "stdout",
     "output_type": "stream",
     "text": [
      "WARNING:tensorflow:From C:\\Users\\Lauro Cabral\\Anaconda3\\lib\\site-packages\\tensorflow_core\\python\\ops\\image_ops_impl.py:1518: div (from tensorflow.python.ops.math_ops) is deprecated and will be removed in a future version.\n",
      "Instructions for updating:\n",
      "Deprecated in favor of operator or tf.math.divide.\n",
      "(60000, 28, 28, 1) (60000, 1)\n"
     ]
    },
    {
     "data": {
      "image/png": "[encoded data removed]",
      "text/plain": [
       "<Figure size 1080x1080 with 15 Axes>"
      ]
     },
     "metadata": {},
     "output_type": "display_data"
    }
   ],
   "source": [
    "# Prepare MNIST Data\n",
    "(train_data, train_label), (test_data, test_label) = datasets.mnist.load_data()\n",
    "# Add new deminsion for TF2\n",
    "train_data  = train_data[...,tf.newaxis] \n",
    "test_data   = test_data[...,tf.newaxis] \n",
    "train_label = train_label[...,tf.newaxis] \n",
    "test_label  = test_label[...,tf.newaxis] \n",
    "\n",
    "# Convert to float32\n",
    "train_data,test_data = np.array(train_data,np.float32), np.array(test_data,np.float32)\n",
    "\n",
    "train_dataset = tf.data.Dataset.from_tensor_slices((train_data, train_label))\n",
    "################################################################################\n",
    "\n",
    "NUM_CHANNELS = 1\n",
    "def normalize(x, y):\n",
    "    x = tf.image.per_image_standardization(x)\n",
    "    return x, y\n",
    "\n",
    "train_dataset = (train_dataset\n",
    "                 .map(augmentation)\n",
    "                 .shuffle(buffer_size=50000)\n",
    "                 .map(normalize))\n",
    "\n",
    "print(train_data.shape, train_label.shape)\n",
    "plotImages(train_dataset)"
   ]
  },
  {
   "cell_type": "markdown",
   "metadata": {
    "colab_type": "text",
    "id": "6qJMCiIbuhPE"
   },
   "source": [
    "## Batching"
   ]
  },
  {
   "cell_type": "code",
   "execution_count": 8,
   "metadata": {
    "colab": {
     "base_uri": "https://localhost:8080/",
     "height": 52
    },
    "colab_type": "code",
    "executionInfo": {
     "elapsed": 21160,
     "status": "ok",
     "timestamp": 1573799506304,
     "user": {
      "displayName": "Lauro Cabral",
      "photoUrl": "https://lh3.googleusercontent.com/a-/AAuE7mBFI_BgQjgll5vTf5fj51ceLR9yEd2xsHY1z2SnupQ=s64",
      "userId": "02968030271474552516"
     },
     "user_tz": 480
    },
    "id": "RGCv3WmDukdd",
    "outputId": "d3ea6a50-fc8a-4234-d989-28f0c0bdd9a7"
   },
   "outputs": [
    {
     "name": "stdout",
     "output_type": "stream",
     "text": [
      "<BatchDataset shapes: ((None, 28, 28, 1), (None, 1)), types: (tf.float32, tf.uint8)>\n",
      "<BatchDataset shapes: ((None, 28, 28, 1), (None, 1)), types: (tf.float32, tf.uint8)>\n"
     ]
    }
   ],
   "source": [
    "# Prepare MNIST Data\n",
    "(train_data, train_label), (test_data, test_label) = datasets.mnist.load_data()\n",
    "# Add new deminsion for TF2\n",
    "train_data  = train_data[...,tf.newaxis] \n",
    "test_data   = test_data[...,tf.newaxis] \n",
    "train_label = train_label[...,tf.newaxis] \n",
    "test_label  = test_label[...,tf.newaxis] \n",
    "\n",
    "# Convert to float32\n",
    "train_data,test_data = np.array(train_data,np.float32), np.array(test_data,np.float32)\n",
    "\n",
    "train_dataset = tf.data.Dataset.from_tensor_slices((train_data, train_label))\n",
    "################################################################################\n",
    "\n",
    "train_dataset = (train_dataset.map(augmentation)\n",
    "                 .map(normalize)\n",
    "                 .shuffle(50000)\n",
    "                 .batch(32))\n",
    "test_dataset = tf.data.Dataset.from_tensor_slices((test_data, test_label)).batch(32)\n",
    "\n",
    "print(train_dataset)\n",
    "print(test_dataset)"
   ]
  },
  {
   "cell_type": "markdown",
   "metadata": {
    "colab_type": "text",
    "id": "JtTntL--vPQU"
   },
   "source": [
    "# Training the model\n"
   ]
  },
  {
   "cell_type": "code",
   "execution_count": 9,
   "metadata": {
    "colab": {
     "base_uri": "https://localhost:8080/",
     "height": 780
    },
    "colab_type": "code",
    "executionInfo": {
     "elapsed": 157,
     "status": "ok",
     "timestamp": 1573799538921,
     "user": {
      "displayName": "Lauro Cabral",
      "photoUrl": "https://lh3.googleusercontent.com/a-/AAuE7mBFI_BgQjgll5vTf5fj51ceLR9yEd2xsHY1z2SnupQ=s64",
      "userId": "02968030271474552516"
     },
     "user_tz": 480
    },
    "id": "i2YpCC1WUBkL",
    "outputId": "5ff99d67-974c-41fd-86f7-bb7079285d6d"
   },
   "outputs": [
    {
     "name": "stdout",
     "output_type": "stream",
     "text": [
      "Model: \"model\"\n",
      "_________________________________________________________________\n",
      "Layer (type)                 Output Shape              Param #   \n",
      "=================================================================\n",
      "input_1 (InputLayer)         [(None, 28, 28, 1)]       0         \n",
      "_________________________________________________________________\n",
      "conv2d (Conv2D)              (None, 28, 28, 32)        320       \n",
      "_________________________________________________________________\n",
      "activation (Activation)      (None, 28, 28, 32)        0         \n",
      "_________________________________________________________________\n",
      "conv2d_1 (Conv2D)            (None, 14, 14, 32)        9248      \n",
      "_________________________________________________________________\n",
      "activation_1 (Activation)    (None, 14, 14, 32)        0         \n",
      "_________________________________________________________________\n",
      "conv2d_2 (Conv2D)            (None, 14, 14, 64)        18496     \n",
      "_________________________________________________________________\n",
      "activation_2 (Activation)    (None, 14, 14, 64)        0         \n",
      "_________________________________________________________________\n",
      "conv2d_3 (Conv2D)            (None, 7, 7, 64)          36928     \n",
      "_________________________________________________________________\n",
      "activation_3 (Activation)    (None, 7, 7, 64)          0         \n",
      "_________________________________________________________________\n",
      "conv2d_4 (Conv2D)            (None, 7, 7, 64)          36928     \n",
      "_________________________________________________________________\n",
      "activation_4 (Activation)    (None, 7, 7, 64)          0         \n",
      "_________________________________________________________________\n",
      "conv2d_5 (Conv2D)            (None, 7, 7, 64)          36928     \n",
      "_________________________________________________________________\n",
      "activation_5 (Activation)    (None, 7, 7, 64)          0         \n",
      "_________________________________________________________________\n",
      "global_average_pooling2d (Gl (None, 64)                0         \n",
      "_________________________________________________________________\n",
      "dense (Dense)                (None, 32)                2080      \n",
      "_________________________________________________________________\n",
      "activation_6 (Activation)    (None, 32)                0         \n",
      "_________________________________________________________________\n",
      "dense_1 (Dense)              (None, 10)                330       \n",
      "_________________________________________________________________\n",
      "activation_7 (Activation)    (None, 10)                0         \n",
      "=================================================================\n",
      "Total params: 141,258\n",
      "Trainable params: 141,258\n",
      "Non-trainable params: 0\n",
      "_________________________________________________________________\n"
     ]
    }
   ],
   "source": [
    "IMG_SIZE = (28, 28, 1)\n",
    "input_img = layers.Input(shape=IMG_SIZE)\n",
    "\n",
    "model = layers.Conv2D(32, (3, 3), padding='same')(input_img)\n",
    "model = layers.Activation('relu')(model)\n",
    "model = layers.Conv2D(32, (3, 3), padding='same', strides=(2, 2))(model)\n",
    "model = layers.Activation('relu')(model)\n",
    "\n",
    "model = layers.Conv2D(64, (3, 3), padding='same')(model)\n",
    "model = layers.Activation('relu')(model)\n",
    "model = layers.Conv2D(64, (3, 3), padding='same', strides=(2, 2))(model)\n",
    "model = layers.Activation('relu')(model)\n",
    "\n",
    "model = layers.Conv2D(64, (3, 3), padding='same')(model)\n",
    "model = layers.Activation('relu')(model)\n",
    "model = layers.Conv2D(64, (3, 3), padding='same')(model)\n",
    "model = layers.Activation('relu')(model)\n",
    "\n",
    "model = layers.GlobalAveragePooling2D()(model)\n",
    "model = layers.Dense(32)(model)\n",
    "model = layers.Activation('relu')(model)\n",
    "model = layers.Dense(10)(model)\n",
    "output_img = layers.Activation('softmax')(model)\n",
    "\n",
    "model = models.Model(input_img, output_img)\n",
    "\n",
    "model.summary()"
   ]
  },
  {
   "cell_type": "code",
   "execution_count": null,
   "metadata": {
    "colab": {
     "base_uri": "https://localhost:8080/",
     "height": 1000
    },
    "colab_type": "code",
    "executionInfo": {
     "elapsed": 10062,
     "status": "error",
     "timestamp": 1573799553959,
     "user": {
      "displayName": "Lauro Cabral",
      "photoUrl": "https://lh3.googleusercontent.com/a-/AAuE7mBFI_BgQjgll5vTf5fj51ceLR9yEd2xsHY1z2SnupQ=s64",
      "userId": "02968030271474552516"
     },
     "user_tz": 480
    },
    "id": "eJlfAAVBUBkO",
    "outputId": "03d994e9-54b9-46db-cdc1-6dcaf078398e"
   },
   "outputs": [
    {
     "name": "stdout",
     "output_type": "stream",
     "text": [
      "Epoch 1/25\n",
      "1875/1875 [==============================] - 27s 14ms/step - loss: 2.3021 - accuracy: 0.1071 - val_loss: 0.0000e+00 - val_accuracy: 0.0000e+00\n",
      "Epoch 2/25\n",
      "1875/1875 [==============================] - 22s 12ms/step - loss: 2.3019 - accuracy: 0.1052 - val_loss: 2.6316 - val_accuracy: 0.0716\n",
      "Epoch 3/25\n",
      "1875/1875 [==============================] - 21s 11ms/step - loss: 2.3016 - accuracy: 0.1047 - val_loss: 2.6063 - val_accuracy: 0.0722\n",
      "Epoch 4/25\n",
      "1875/1875 [==============================] - 21s 11ms/step - loss: 2.3013 - accuracy: 0.1307 - val_loss: 2.5835 - val_accuracy: 0.0729\n",
      "Epoch 5/25\n",
      "1875/1875 [==============================] - 22s 12ms/step - loss: 2.3009 - accuracy: 0.1618 - val_loss: 2.5525 - val_accuracy: 0.0739\n",
      "Epoch 6/25\n",
      "1875/1875 [==============================] - 23s 12ms/step - loss: 2.3004 - accuracy: 0.1664 - val_loss: 2.5356 - val_accuracy: 0.0927\n",
      "Epoch 7/25\n",
      "1875/1875 [==============================] - 23s 12ms/step - loss: 2.2997 - accuracy: 0.1621 - val_loss: 2.5166 - val_accuracy: 0.1641\n",
      "Epoch 8/25\n",
      "1875/1875 [==============================] - 22s 12ms/step - loss: 2.2989 - accuracy: 0.1724 - val_loss: 2.5229 - val_accuracy: 0.2408\n",
      "Epoch 9/25\n",
      "1875/1875 [==============================] - 23s 12ms/step - loss: 2.2977 - accuracy: 0.1866 - val_loss: 2.5801 - val_accuracy: 0.2733\n",
      "Epoch 10/25\n",
      "1875/1875 [==============================] - 22s 12ms/step - loss: 2.2959 - accuracy: 0.1989 - val_loss: 2.7058 - val_accuracy: 0.2752\n",
      "Epoch 11/25\n",
      " 117/1875 [>.............................] - ETA: 2:27 - loss: 2.2956 - accuracy: 0.2001"
     ]
    }
   ],
   "source": [
    "model.compile(optimizer='adam',\n",
    "              loss='sparse_categorical_crossentropy', \n",
    "              metrics=[\"accuracy\"])\n",
    "\n",
    "history = model.fit(train_dataset, epochs=25, \n",
    "                    validation_data = test_dataset)"
   ]
  },
  {
   "cell_type": "markdown",
   "metadata": {
    "colab_type": "text",
    "id": "oTIpBb9G456P"
   },
   "source": [
    "# Visualize the model"
   ]
  },
  {
   "cell_type": "code",
   "execution_count": null,
   "metadata": {
    "colab": {},
    "colab_type": "code",
    "id": "bq44JoOSUBkQ"
   },
   "outputs": [],
   "source": [
    "acc = history.history['accuracy']\n",
    "val_acc = history.history['val_accuracy']\n",
    "\n",
    "loss = history.history['loss']\n",
    "val_loss = history.history['val_loss']\n",
    "\n",
    "epochs_range = range(25)\n",
    "\n",
    "plt.figure(figsize=(16, 8))\n",
    "plt.subplot(1, 2, 1)\n",
    "plt.plot(epochs_range, acc, label='Training Accuracy')\n",
    "plt.plot(epochs_range, val_acc, label='Validation Accuracy')\n",
    "plt.legend(loc='lower right')\n",
    "plt.title('Training and Validation Accuracy')\n",
    "\n",
    "plt.subplot(1, 2, 2)\n",
    "plt.plot(epochs_range, loss, label='Training Loss')\n",
    "plt.plot(epochs_range, val_loss, label='Validation Loss')\n",
    "plt.legend(loc='upper right')\n",
    "plt.title('Training and Validation Loss')\n",
    "plt.show()"
   ]
  },
  {
   "cell_type": "markdown",
   "metadata": {
    "colab_type": "text",
    "id": "AYn4Ny815crK"
   },
   "source": [
    "## Evaluate the model on the test dataset"
   ]
  },
  {
   "cell_type": "code",
   "execution_count": null,
   "metadata": {
    "colab": {},
    "colab_type": "code",
    "id": "ruVQAE88c1SP"
   },
   "outputs": [],
   "source": [
    "(train_data, train_label), (test_data, test_label) = datasets.mnist.load_data()\n",
    "\n",
    "train_data = train_data[...,tf.newaxis] # this is cause of tensorflow \n",
    "test_data = test_data[...,tf.newaxis] # this is cause of tensorflow\n",
    "\n",
    "train_label = train_label[...,tf.newaxis] # this is cause of tensorflow \n",
    "test_label = test_label[...,tf.newaxis] # this is cause of tensorflow\n",
    "\n",
    "print(train_data.shape, train_label.shape)\n",
    "################################################################################\n",
    "\n",
    "model.evaluate(test_data, test_label)"
   ]
  },
  {
   "cell_type": "code",
   "execution_count": null,
   "metadata": {
    "colab": {},
    "colab_type": "code",
    "id": "h1Zo59u55fSx"
   },
   "outputs": [],
   "source": [
    "# Prepare MNIST Data\n",
    "(train_data, train_label), (test_data, test_label) = datasets.mnist.load_data()\n",
    "# Add new deminsion for TF2\n",
    "train_data  = train_data[...,tf.newaxis] \n",
    "test_data   = test_data[...,tf.newaxis] \n",
    "train_label = train_label[...,tf.newaxis] \n",
    "test_label  = test_label[...,tf.newaxis] \n",
    "\n",
    "# Convert to float32\n",
    "train_data,test_data = np.array(train_data,np.float32), np.array(test_data,np.float32)\n",
    "\n",
    "train_dataset = tf.data.Dataset.from_tensor_slices((train_data, train_label))\n",
    "\n",
    "# Memory Leak if not do this line with batch size\n",
    "# Adjust Batch size accordingly, lower if memory leak\n",
    "test_dataset = tf.data.Dataset.from_tensor_slices((test_data, test_label)).batch(128)\n",
    "############################################################################\n",
    "\n",
    "test_accuracy = tf.keras.metrics.Accuracy()\n",
    "\n",
    "for timages, tlabels in test_dataset:\n",
    "    logits = model(timages)\n",
    "    prediction = tf.argmax(logits, axis=1, output_type=tf.int32)\n",
    "    test_accuracy(prediction, tlabels)\n",
    "\n",
    "print(\"Test set accuracy: {:.3%}\".format(test_accuracy.result()))\n",
    "#print(prediction)"
   ]
  },
  {
   "cell_type": "code",
   "execution_count": null,
   "metadata": {
    "colab": {},
    "colab_type": "code",
    "id": "LgYSKpejCGy4"
   },
   "outputs": [],
   "source": [
    "# Predict 5 images from test set\n",
    "n_images = 20\n",
    "test_images = test_data[:n_images]\n",
    "predictions = model(test_images)\n",
    "\n",
    "# Display image and model prediction\n",
    "for i in range(n_images):\n",
    "    plt.imshow(np.reshape(test_images[i], [28,28]), cmap='gray')\n",
    "    plt.show()\n",
    "    print(\"Model prediciton:%i\" % np.argmax(predictions.numpy()[i]))"
   ]
  },
  {
   "cell_type": "code",
   "execution_count": null,
   "metadata": {
    "colab": {},
    "colab_type": "code",
    "id": "nQtmUN2GwK6F"
   },
   "outputs": [],
   "source": []
  }
 ],
 "metadata": {
  "colab": {
   "collapsed_sections": [
    "QnL_bQkxUBkU"
   ],
   "name": "TF2 11.12.ipynb",
   "provenance": []
  },
  "kernelspec": {
   "display_name": "Python 3",
   "language": "python",
   "name": "python3"
  },
  "language_info": {
   "codemirror_mode": {
    "name": "ipython",
    "version": 3
   },
   "file_extension": ".py",
   "mimetype": "text/x-python",
   "name": "python",
   "nbconvert_exporter": "python",
   "pygments_lexer": "ipython3",
   "version": "3.7.5"
  }
 },
 "nbformat": 4,
 "nbformat_minor": 1
}
