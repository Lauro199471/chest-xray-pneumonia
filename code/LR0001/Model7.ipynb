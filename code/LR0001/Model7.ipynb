{
 "cells": [
  {
   "cell_type": "code",
   "execution_count": 1,
   "metadata": {},
   "outputs": [],
   "source": [
    "import torch\n",
    "import torch.nn as nn\n",
    "import torch.nn.functional as F\n",
    "from torch.utils.data import DataLoader\n",
    "from torchvision import datasets, transforms, models # add models to the list\n",
    "from torchvision.utils import make_grid\n",
    "import math\n",
    "import os\n",
    "\n",
    "import numpy as np\n",
    "import pandas as pd\n",
    "import matplotlib.pyplot as plt\n",
    "from sklearn.metrics import confusion_matrix\n",
    "import seaborn as sn\n",
    "%matplotlib inline\n",
    "\n",
    "# ignore harmless warnings\n",
    "import warnings\n",
    "warnings.filterwarnings(\"ignore\")"
   ]
  },
  {
   "cell_type": "code",
   "execution_count": 2,
   "metadata": {},
   "outputs": [
    {
     "data": {
      "text/plain": [
       "True"
      ]
     },
     "execution_count": 2,
     "metadata": {},
     "output_type": "execute_result"
    }
   ],
   "source": [
    "device = \"cuda:0\" if torch.cuda.is_available() else \"cpu\"\n",
    "torch.cuda.is_available()"
   ]
  },
  {
   "cell_type": "code",
   "execution_count": 3,
   "metadata": {},
   "outputs": [],
   "source": [
    "train_transform = transforms.Compose([\n",
    "        transforms.RandomRotation(10),     \n",
    "        transforms.RandomHorizontalFlip(),\n",
    "        transforms.Resize((150,150)),\n",
    "        transforms.ToTensor(),\n",
    "    ])\n",
    "\n",
    "test_transform = transforms.Compose([\n",
    "        transforms.Resize((150,150)),\n",
    "        transforms.ToTensor(),\n",
    "    ])\n",
    "\n",
    "val_transform = transforms.Compose([\n",
    "        transforms.Resize((150,150)),\n",
    "        transforms.ToTensor(),\n",
    "    ])"
   ]
  },
  {
   "cell_type": "code",
   "execution_count": 4,
   "metadata": {},
   "outputs": [
    {
     "name": "stdout",
     "output_type": "stream",
     "text": [
      "['NORMAL', 'PNEUMONIA']\n",
      "Training images available: 5005\n",
      "testing images available:  624\n",
      "Validation images available:  227\n"
     ]
    }
   ],
   "source": [
    "root = '../chest_xray/'\n",
    "\n",
    "torch.manual_seed(101)\n",
    "train_data = datasets.ImageFolder(os.path.join(root, 'train'), transform=train_transform)\n",
    "test_data = datasets.ImageFolder(os.path.join(root, 'test'), transform=test_transform)\n",
    "val_data = datasets.ImageFolder(os.path.join(root, 'val'), transform=val_transform)\n",
    "\n",
    "torch.manual_seed(42)\n",
    "batch_size = 10\n",
    "train_loader = DataLoader(train_data, batch_size=batch_size, shuffle=True)\n",
    "test_loader = DataLoader(test_data, batch_size=len(test_data), shuffle=False)\n",
    "val_loader = DataLoader(val_data, batch_size=len(val_data), shuffle=False)\n",
    "\n",
    "train_loader.pin_memory = True\n",
    "test_loader.pin_memory = True\n",
    "val_loader.pin_memory = True\n",
    "\n",
    "class_names = train_data.classes\n",
    "\n",
    "print(class_names)\n",
    "print(f'Training images available: {len(train_data)}')\n",
    "print(f'testing images available:  {len(test_data)}')\n",
    "print(f'Validation images available:  {len(val_data)}')"
   ]
  },
  {
   "cell_type": "code",
   "execution_count": null,
   "metadata": {},
   "outputs": [],
   "source": []
  },
  {
   "cell_type": "code",
   "execution_count": 5,
   "metadata": {},
   "outputs": [
    {
     "data": {
      "text/plain": [
       "17"
      ]
     },
     "execution_count": 5,
     "metadata": {},
     "output_type": "execute_result"
    }
   ],
   "source": [
    "put = 150\n",
    "c1 = put-2\n",
    "p1 = math.floor(c1/2)\n",
    "c2 = p1 - 2\n",
    "p2 = math.floor(c2/2)\n",
    "c3 = p2 - 2\n",
    "p3 = math.floor(c3/2)\n",
    "p3"
   ]
  },
  {
   "cell_type": "code",
   "execution_count": 6,
   "metadata": {},
   "outputs": [],
   "source": [
    "class Model(nn.Module):\n",
    "    def __init__(self, out_size = 2):\n",
    "        super().__init__()\n",
    "        self.train_losses = []\n",
    "        self.train_correct = []\n",
    "        self.val_losses = []\n",
    "        self.val_correct = []\n",
    "        self.min_loss = 100\n",
    "        self.epoch = 0\n",
    "        self.act = nn.ReLU\n",
    "        self.features = nn.Sequential(\n",
    "            nn.Conv2d(3, 64, 3),\n",
    "            nn.Conv2d(64, 64, 3, padding=1),\n",
    "            self.act(inplace=True),\n",
    "            nn.MaxPool2d(kernel_size=2, stride=2),\n",
    "            nn.Conv2d(64, 64, 3),\n",
    "            self.act(inplace=True),\n",
    "            nn.MaxPool2d(kernel_size=2, stride=2),\n",
    "            nn.Conv2d(64, 64, 3),\n",
    "            nn.MaxPool2d(kernel_size=2, stride=2),\n",
    "        )\n",
    "        \n",
    "        self.classifier = nn.Sequential(\n",
    "            nn.Dropout(.5),\n",
    "            nn.Linear(17*17*64, 64),\n",
    "            self.act(inplace=True),\n",
    "            nn.Dropout(.5),\n",
    "            nn.Linear(64, 2),\n",
    "        )\n",
    "        \n",
    "    \n",
    "    def forward(self, x):\n",
    "        x = self.features(x)\n",
    "        x = x.view(-1, 17*17*64)\n",
    "        x = self.classifier(x)\n",
    "        return F.log_softmax(x, 1)"
   ]
  },
  {
   "cell_type": "code",
   "execution_count": 7,
   "metadata": {},
   "outputs": [],
   "source": [
    "def count_parameters(model):\n",
    "    params = [p.numel() for p in model.parameters() if p.requires_grad]\n",
    "    for item in params:\n",
    "        print(f'{item:>8}')\n",
    "    print(f'________\\n{sum(params):>8}')\n"
   ]
  },
  {
   "cell_type": "code",
   "execution_count": 8,
   "metadata": {},
   "outputs": [
    {
     "data": {
      "text/plain": [
       "Model(\n",
       "  (features): Sequential(\n",
       "    (0): Conv2d(3, 64, kernel_size=(3, 3), stride=(1, 1))\n",
       "    (1): Conv2d(64, 64, kernel_size=(3, 3), stride=(1, 1), padding=(1, 1))\n",
       "    (2): ReLU(inplace=True)\n",
       "    (3): MaxPool2d(kernel_size=2, stride=2, padding=0, dilation=1, ceil_mode=False)\n",
       "    (4): Conv2d(64, 64, kernel_size=(3, 3), stride=(1, 1))\n",
       "    (5): ReLU(inplace=True)\n",
       "    (6): MaxPool2d(kernel_size=2, stride=2, padding=0, dilation=1, ceil_mode=False)\n",
       "    (7): Conv2d(64, 64, kernel_size=(3, 3), stride=(1, 1))\n",
       "    (8): MaxPool2d(kernel_size=2, stride=2, padding=0, dilation=1, ceil_mode=False)\n",
       "  )\n",
       "  (classifier): Sequential(\n",
       "    (0): Dropout(p=0.5, inplace=False)\n",
       "    (1): Linear(in_features=18496, out_features=64, bias=True)\n",
       "    (2): ReLU(inplace=True)\n",
       "    (3): Dropout(p=0.5, inplace=False)\n",
       "    (4): Linear(in_features=64, out_features=2, bias=True)\n",
       "  )\n",
       ")"
      ]
     },
     "execution_count": 8,
     "metadata": {},
     "output_type": "execute_result"
    }
   ],
   "source": [
    "torch.manual_seed(200)\n",
    "model = Model().cuda()\n",
    "criterion = nn.CrossEntropyLoss()\n",
    "optimizer = torch.optim.Adam(model.parameters(), lr=0.0001)\n",
    "model.eval()"
   ]
  },
  {
   "cell_type": "code",
   "execution_count": 9,
   "metadata": {},
   "outputs": [
    {
     "name": "stdout",
     "output_type": "stream",
     "text": [
      "epoch:  0  batch:  500 [  5000/5005]  loss: 0.08032723                      accuracy:  82.140%\n",
      "Validation set: loss: 0.30740198                      accuracy:  85.022%\n",
      "epoch:  1  batch:  500 [  5000/5005]  loss: 0.28910762                      accuracy:  94.020%\n",
      "Validation set: loss: 0.23389947                      accuracy:  90.308%\n",
      "epoch:  2  batch:  500 [  5000/5005]  loss: 0.18546356                      accuracy:  94.580%\n",
      "Validation set: loss: 0.18420255                      accuracy:  90.749%\n",
      "epoch:  3  batch:  500 [  5000/5005]  loss: 0.01147138                      accuracy:  94.980%\n",
      "Validation set: loss: 0.14146858                      accuracy:  93.833%\n",
      "epoch:  4  batch:  500 [  5000/5005]  loss: 0.54391670                      accuracy:  95.540%\n",
      "Validation set: loss: 0.14159060                      accuracy:  94.273%\n",
      "epoch:  5  batch:  500 [  5000/5005]  loss: 0.13308844                      accuracy:  96.180%\n",
      "Validation set: loss: 0.13165593                      accuracy:  95.154%\n",
      "epoch:  6  batch:  500 [  5000/5005]  loss: 0.12927625                      accuracy:  96.300%\n",
      "Validation set: loss: 0.13548225                      accuracy:  93.392%\n",
      "epoch:  7  batch:  500 [  5000/5005]  loss: 0.05670546                      accuracy:  96.580%\n",
      "Validation set: loss: 0.10471153                      accuracy:  95.595%\n",
      "epoch:  8  batch:  500 [  5000/5005]  loss: 0.01590392                      accuracy:  96.520%\n",
      "Validation set: loss: 0.15589960                      accuracy:  93.833%\n",
      "epoch:  9  batch:  500 [  5000/5005]  loss: 0.07528292                      accuracy:  96.760%\n",
      "Validation set: loss: 0.10238845                      accuracy:  95.595%\n",
      "epoch: 10  batch:  500 [  5000/5005]  loss: 0.00301203                      accuracy:  96.940%\n",
      "Validation set: loss: 0.09359269                      accuracy:  95.595%\n",
      "epoch: 11  batch:  500 [  5000/5005]  loss: 0.00091478                      accuracy:  97.200%\n",
      "Validation set: loss: 0.11493288                      accuracy:  94.714%\n",
      "epoch: 12  batch:  500 [  5000/5005]  loss: 0.01558980                      accuracy:  97.260%\n",
      "Validation set: loss: 0.11954293                      accuracy:  94.714%\n",
      "epoch: 13  batch:  500 [  5000/5005]  loss: 0.00151261                      accuracy:  97.600%\n",
      "Validation set: loss: 0.11707219                      accuracy:  94.273%\n",
      "epoch: 14  batch:  500 [  5000/5005]  loss: 0.03639332                      accuracy:  97.560%\n",
      "Validation set: loss: 0.08559214                      accuracy:  96.476%\n",
      "epoch: 15  batch:  500 [  5000/5005]  loss: 0.00983126                      accuracy:  97.900%\n",
      "Validation set: loss: 0.13054082                      accuracy:  94.273%\n",
      "epoch: 16  batch:  500 [  5000/5005]  loss: 0.01651095                      accuracy:  97.860%\n",
      "Validation set: loss: 0.08548758                      accuracy:  96.476%\n",
      "epoch: 17  batch:  500 [  5000/5005]  loss: 0.47913557                      accuracy:  97.900%\n",
      "Validation set: loss: 0.07995976                      accuracy:  96.476%\n",
      "epoch: 18  batch:  500 [  5000/5005]  loss: 0.17745756                      accuracy:  98.200%\n",
      "Validation set: loss: 0.08995863                      accuracy:  96.035%\n",
      "epoch: 19  batch:  500 [  5000/5005]  loss: 0.24737875                      accuracy:  98.100%\n",
      "Validation set: loss: 0.09866818                      accuracy:  96.476%\n",
      "epoch: 20  batch:  500 [  5000/5005]  loss: 0.00556932                      accuracy:  98.200%\n",
      "Validation set: loss: 0.07046127                      accuracy:  96.476%\n",
      "epoch: 21  batch:  500 [  5000/5005]  loss: 0.00169146                      accuracy:  98.540%\n",
      "Validation set: loss: 0.07119485                      accuracy:  96.916%\n",
      "epoch: 22  batch:  500 [  5000/5005]  loss: 0.02555839                      accuracy:  98.220%\n",
      "Validation set: loss: 0.12477062                      accuracy:  95.595%\n",
      "epoch: 23  batch:  500 [  5000/5005]  loss: 0.11248527                      accuracy:  98.420%\n",
      "Validation set: loss: 0.09518602                      accuracy:  97.797%\n",
      "epoch: 24  batch:  500 [  5000/5005]  loss: 0.01958881                      accuracy:  98.300%\n",
      "Validation set: loss: 0.07247150                      accuracy:  96.916%\n",
      "epoch: 25  batch:  500 [  5000/5005]  loss: 0.03237311                      accuracy:  98.620%\n",
      "Validation set: loss: 0.11841226                      accuracy:  95.595%\n",
      "epoch: 26  batch:  500 [  5000/5005]  loss: 0.00606315                      accuracy:  98.540%\n",
      "Validation set: loss: 0.08225582                      accuracy:  96.035%\n",
      "epoch: 27  batch:  500 [  5000/5005]  loss: 0.04555937                      accuracy:  98.540%\n",
      "Validation set: loss: 0.08277721                      accuracy:  96.476%\n",
      "epoch: 28  batch:  500 [  5000/5005]  loss: 0.00050891                      accuracy:  98.520%\n",
      "Validation set: loss: 0.10634000                      accuracy:  96.916%\n",
      "epoch: 29  batch:  500 [  5000/5005]  loss: 0.00243806                      accuracy:  98.420%\n",
      "Validation set: loss: 0.08516559                      accuracy:  96.916%\n",
      "epoch: 30  batch:  500 [  5000/5005]  loss: 0.00031409                      accuracy:  98.720%\n",
      "Validation set: loss: 0.11781950                      accuracy:  96.035%\n",
      "epoch: 31  batch:  500 [  5000/5005]  loss: 0.00556835                      accuracy:  98.920%\n",
      "Validation set: loss: 0.08530592                      accuracy:  96.916%\n",
      "epoch: 32  batch:  500 [  5000/5005]  loss: 0.00483153                      accuracy:  98.900%\n",
      "Validation set: loss: 0.09430589                      accuracy:  96.035%\n",
      "epoch: 33  batch:  500 [  5000/5005]  loss: 0.01069820                      accuracy:  98.720%\n",
      "Validation set: loss: 0.07821102                      accuracy:  96.916%\n",
      "epoch: 34  batch:  500 [  5000/5005]  loss: 0.02515185                      accuracy:  98.840%\n",
      "Validation set: loss: 0.10804339                      accuracy:  97.797%\n",
      "epoch: 35  batch:  500 [  5000/5005]  loss: 0.00003339                      accuracy:  99.200%\n",
      "Validation set: loss: 0.10732631                      accuracy:  96.035%\n",
      "epoch: 36  batch:  500 [  5000/5005]  loss: 0.10723166                      accuracy:  98.960%\n",
      "Validation set: loss: 0.08661353                      accuracy:  97.357%\n",
      "epoch: 37  batch:  500 [  5000/5005]  loss: 0.01592388                      accuracy:  99.020%\n",
      "Validation set: loss: 0.08127614                      accuracy:  97.357%\n",
      "epoch: 38  batch:  500 [  5000/5005]  loss: 0.00476578                      accuracy:  98.960%\n",
      "Validation set: loss: 0.10572061                      accuracy:  95.595%\n",
      "epoch: 39  batch:  500 [  5000/5005]  loss: 0.00054835                      accuracy:  99.120%\n",
      "Validation set: loss: 0.09488869                      accuracy:  96.035%\n",
      "epoch: 40  batch:  500 [  5000/5005]  loss: 0.00125270                      accuracy:  99.260%\n",
      "Validation set: loss: 0.22202198                      accuracy:  94.273%\n",
      "epoch: 41  batch:  500 [  5000/5005]  loss: 0.06625869                      accuracy:  99.140%\n",
      "Validation set: loss: 0.12590386                      accuracy:  95.154%\n",
      "epoch: 42  batch:  500 [  5000/5005]  loss: 0.00004758                      accuracy:  99.080%\n",
      "Validation set: loss: 0.07740288                      accuracy:  97.797%\n",
      "epoch: 43  batch:  500 [  5000/5005]  loss: 0.00008383                      accuracy:  99.260%\n",
      "Validation set: loss: 0.07546940                      accuracy:  97.797%\n",
      "epoch: 44  batch:  500 [  5000/5005]  loss: 0.00009060                      accuracy:  99.060%\n",
      "Validation set: loss: 0.07539412                      accuracy:  97.797%\n",
      "epoch: 45  batch:  500 [  5000/5005]  loss: 0.01091372                      accuracy:  99.420%\n",
      "Validation set: loss: 0.06917143                      accuracy:  97.357%\n",
      "epoch: 46  batch:  500 [  5000/5005]  loss: 0.03313472                      accuracy:  99.300%\n",
      "Validation set: loss: 0.07876981                      accuracy:  97.357%\n",
      "epoch: 47  batch:  500 [  5000/5005]  loss: 0.00629712                      accuracy:  99.480%\n",
      "Validation set: loss: 0.05756214                      accuracy:  99.119%\n",
      "epoch: 48  batch:  500 [  5000/5005]  loss: 0.20295021                      accuracy:  99.400%\n",
      "Validation set: loss: 0.08071252                      accuracy:  98.238%\n",
      "epoch: 49  batch:  500 [  5000/5005]  loss: 0.00009956                      accuracy:  99.360%\n",
      "Validation set: loss: 0.05631068                      accuracy:  97.797%\n",
      "epoch: 50  batch:  500 [  5000/5005]  loss: 0.00000380                      accuracy:  99.420%\n",
      "Validation set: loss: 0.08338295                      accuracy:  97.797%\n",
      "epoch: 51  batch:  500 [  5000/5005]  loss: 0.00024371                      accuracy:  99.540%\n",
      "Validation set: loss: 0.12954547                      accuracy:  96.476%\n",
      "epoch: 52  batch:  500 [  5000/5005]  loss: 0.00855784                      accuracy:  99.580%\n",
      "Validation set: loss: 0.10901500                      accuracy:  96.916%\n",
      "epoch: 53  batch:  500 [  5000/5005]  loss: 0.00030215                      accuracy:  99.460%\n",
      "Validation set: loss: 0.07942995                      accuracy:  97.357%\n",
      "epoch: 54  batch:  500 [  5000/5005]  loss: 0.00071410                      accuracy:  99.400%\n",
      "Validation set: loss: 0.06833281                      accuracy:  97.797%\n",
      "epoch: 55  batch:  500 [  5000/5005]  loss: 0.00019516                      accuracy:  99.500%\n",
      "Validation set: loss: 0.07446928                      accuracy:  97.797%\n",
      "epoch: 56  batch:  500 [  5000/5005]  loss: 0.00000746                      accuracy:  99.440%\n",
      "Validation set: loss: 0.19569810                      accuracy:  95.154%\n",
      "epoch: 57  batch:  500 [  5000/5005]  loss: 0.00082489                      accuracy:  99.580%\n",
      "Validation set: loss: 0.10178044                      accuracy:  96.916%\n",
      "epoch: 58  batch:  500 [  5000/5005]  loss: 0.00001298                      accuracy:  99.560%\n",
      "Validation set: loss: 0.08731002                      accuracy:  98.238%\n",
      "epoch: 59  batch:  500 [  5000/5005]  loss: 0.00001112                      accuracy:  99.360%\n",
      "Validation set: loss: 0.07942021                      accuracy:  97.357%\n",
      "epoch: 60  batch:  500 [  5000/5005]  loss: 0.00000850                      accuracy:  99.640%\n",
      "Validation set: loss: 0.07808279                      accuracy:  97.797%\n",
      "epoch: 61  batch:  500 [  5000/5005]  loss: 0.00000191                      accuracy:  99.600%\n",
      "Validation set: loss: 0.06911174                      accuracy:  98.238%\n",
      "epoch: 62  batch:  500 [  5000/5005]  loss: 0.00011437                      accuracy:  99.620%\n",
      "Validation set: loss: 0.10320339                      accuracy:  96.916%\n",
      "epoch: 63  batch:  500 [  5000/5005]  loss: 0.00000235                      accuracy:  99.520%\n",
      "Validation set: loss: 0.13204278                      accuracy:  96.476%\n",
      "epoch: 64  batch:  500 [  5000/5005]  loss: 0.00003289                      accuracy:  99.580%\n",
      "Validation set: loss: 0.09384620                      accuracy:  98.238%\n",
      "epoch: 65  batch:  500 [  5000/5005]  loss: 0.00007051                      accuracy:  99.660%\n",
      "Validation set: loss: 0.07318683                      accuracy:  97.797%\n",
      "epoch: 66  batch:  500 [  5000/5005]  loss: 0.00015781                      accuracy:  99.760%\n",
      "Validation set: loss: 0.09421160                      accuracy:  98.238%\n",
      "epoch: 67  batch:  500 [  5000/5005]  loss: 0.00025560                      accuracy:  99.760%\n",
      "Validation set: loss: 0.10464518                      accuracy:  96.916%\n",
      "epoch: 68  batch:  500 [  5000/5005]  loss: 0.00084413                      accuracy:  99.760%\n",
      "Validation set: loss: 0.09045024                      accuracy:  96.476%\n",
      "epoch: 69  batch:  500 [  5000/5005]  loss: 0.00018390                      accuracy:  99.440%\n",
      "Validation set: loss: 0.13913260                      accuracy:  97.357%\n",
      "epoch: 70  batch:  500 [  5000/5005]  loss: 0.00945609                      accuracy:  99.620%\n",
      "Validation set: loss: 0.24807557                      accuracy:  94.714%\n",
      "epoch: 71  batch:  500 [  5000/5005]  loss: 0.00001669                      accuracy:  99.680%\n",
      "Validation set: loss: 0.11868426                      accuracy:  97.797%\n",
      "epoch: 72  batch:  500 [  5000/5005]  loss: 0.04165121                      accuracy:  99.580%\n",
      "Validation set: loss: 0.07922951                      accuracy:  98.238%\n",
      "epoch: 73  batch:  500 [  5000/5005]  loss: 0.00009377                      accuracy:  99.860%\n",
      "Validation set: loss: 0.07514206                      accuracy:  98.238%\n",
      "epoch: 74  batch:  500 [  5000/5005]  loss: 0.00000107                      accuracy:  99.500%\n",
      "Validation set: loss: 0.11673149                      accuracy:  97.357%\n",
      "epoch: 75  batch:  500 [  5000/5005]  loss: 0.00009838                      accuracy:  99.740%\n",
      "Validation set: loss: 0.09250912                      accuracy:  97.797%\n",
      "epoch: 76  batch:  500 [  5000/5005]  loss: 0.00000694                      accuracy:  99.540%\n",
      "Validation set: loss: 0.09370584                      accuracy:  98.238%\n",
      "epoch: 77  batch:  500 [  5000/5005]  loss: 0.00788951                      accuracy:  99.840%\n",
      "Validation set: loss: 0.14117791                      accuracy:  96.476%\n",
      "epoch: 78  batch:  500 [  5000/5005]  loss: 0.00000000                      accuracy:  99.640%\n",
      "Validation set: loss: 0.06699345                      accuracy:  98.238%\n",
      "epoch: 79  batch:  500 [  5000/5005]  loss: 0.00084523                      accuracy:  99.820%\n",
      "Validation set: loss: 0.07617847                      accuracy:  98.238%\n",
      "epoch: 80  batch:  500 [  5000/5005]  loss: 0.00000013                      accuracy:  99.840%\n",
      "Validation set: loss: 0.09814130                      accuracy:  98.238%\n",
      "epoch: 81  batch:  500 [  5000/5005]  loss: 0.00055372                      accuracy:  99.600%\n",
      "Validation set: loss: 0.07389720                      accuracy:  98.678%\n",
      "epoch: 82  batch:  500 [  5000/5005]  loss: 0.00359650                      accuracy:  99.780%\n",
      "Validation set: loss: 0.11954378                      accuracy:  98.238%\n",
      "epoch: 83  batch:  500 [  5000/5005]  loss: 0.00011711                      accuracy:  99.760%\n",
      "Validation set: loss: 0.10380533                      accuracy:  97.357%\n",
      "epoch: 84  batch:  500 [  5000/5005]  loss: 0.00007340                      accuracy:  99.560%\n",
      "Validation set: loss: 0.09164713                      accuracy:  96.916%\n",
      "epoch: 85  batch:  500 [  5000/5005]  loss: 0.07190242                      accuracy:  99.660%\n",
      "Validation set: loss: 0.11973508                      accuracy:  97.797%\n",
      "epoch: 86  batch:  500 [  5000/5005]  loss: 0.00000179                      accuracy:  99.760%\n",
      "Validation set: loss: 0.11390375                      accuracy:  97.357%\n",
      "epoch: 87  batch:  500 [  5000/5005]  loss: 0.00000011                      accuracy:  99.860%\n",
      "Validation set: loss: 0.12820162                      accuracy:  97.357%\n",
      "epoch: 88  batch:  500 [  5000/5005]  loss: 0.00000018                      accuracy:  99.880%\n",
      "Validation set: loss: 0.09668021                      accuracy:  98.238%\n",
      "epoch: 89  batch:  500 [  5000/5005]  loss: 0.00000163                      accuracy:  99.640%\n",
      "Validation set: loss: 0.14071880                      accuracy:  97.797%\n",
      "epoch: 90  batch:  500 [  5000/5005]  loss: 0.00002950                      accuracy:  99.680%\n",
      "Validation set: loss: 0.10848999                      accuracy:  97.797%\n",
      "epoch: 91  batch:  500 [  5000/5005]  loss: 0.00005947                      accuracy:  99.720%\n",
      "Validation set: loss: 0.10991176                      accuracy:  96.916%\n",
      "epoch: 92  batch:  500 [  5000/5005]  loss: 0.00283817                      accuracy:  99.920%\n",
      "Validation set: loss: 0.12856025                      accuracy:  96.916%\n",
      "epoch: 93  batch:  500 [  5000/5005]  loss: 0.00016600                      accuracy:  99.640%\n",
      "Validation set: loss: 0.11608275                      accuracy:  98.238%\n",
      "epoch: 94  batch:  500 [  5000/5005]  loss: 0.00036681                      accuracy:  99.780%\n",
      "Validation set: loss: 0.12376274                      accuracy:  96.916%\n",
      "epoch: 95  batch:  500 [  5000/5005]  loss: 0.00901937                      accuracy:  99.700%\n",
      "Validation set: loss: 0.08324721                      accuracy:  98.238%\n",
      "epoch: 96  batch:  500 [  5000/5005]  loss: 0.00891316                      accuracy:  99.680%\n",
      "Validation set: loss: 0.16388422                      accuracy:  97.357%\n",
      "epoch: 97  batch:  500 [  5000/5005]  loss: 0.00306948                      accuracy:  99.840%\n",
      "Validation set: loss: 0.09786716                      accuracy:  97.357%\n",
      "epoch: 98  batch:  500 [  5000/5005]  loss: 0.00020383                      accuracy:  99.860%\n",
      "Validation set: loss: 0.15623774                      accuracy:  98.238%\n",
      "epoch: 99  batch:  500 [  5000/5005]  loss: 0.00000137                      accuracy:  99.900%\n",
      "Validation set: loss: 0.15379526                      accuracy:  97.357%\n",
      "epoch: 100  batch:  500 [  5000/5005]  loss: 0.00137863                      accuracy:  99.780%\n",
      "Validation set: loss: 0.14540823                      accuracy:  96.476%\n",
      "epoch: 101  batch:  500 [  5000/5005]  loss: 0.00004087                      accuracy:  99.300%\n",
      "Validation set: loss: 0.10466991                      accuracy:  97.797%\n",
      "epoch: 102  batch:  500 [  5000/5005]  loss: 0.00030296                      accuracy:  99.900%\n",
      "Validation set: loss: 0.16497996                      accuracy:  96.916%\n",
      "epoch: 103  batch:  500 [  5000/5005]  loss: 0.00001043                      accuracy:  99.800%\n",
      "Validation set: loss: 0.11033705                      accuracy:  98.238%\n",
      "epoch: 104  batch:  500 [  5000/5005]  loss: 0.00000006                      accuracy:  99.920%\n",
      "Validation set: loss: 0.10433921                      accuracy:  98.238%\n",
      "epoch: 105  batch:  500 [  5000/5005]  loss: 0.00002071                      accuracy:  99.840%\n",
      "Validation set: loss: 0.15165870                      accuracy:  96.916%\n",
      "epoch: 106  batch:  500 [  5000/5005]  loss: 0.00000033                      accuracy:  99.700%\n",
      "Validation set: loss: 0.14282900                      accuracy:  97.357%\n",
      "epoch: 107  batch:  500 [  5000/5005]  loss: 0.00000014                      accuracy:  99.740%\n",
      "Validation set: loss: 0.11388636                      accuracy:  97.797%\n",
      "epoch: 108  batch:  500 [  5000/5005]  loss: 0.00000079                      accuracy:  99.820%\n",
      "Validation set: loss: 0.07943316                      accuracy:  98.238%\n",
      "epoch: 109  batch:  500 [  5000/5005]  loss: 0.00003172                      accuracy:  99.860%\n",
      "Validation set: loss: 0.09372906                      accuracy:  98.238%\n",
      "epoch: 110  batch:  500 [  5000/5005]  loss: 0.00000186                      accuracy:  99.980%\n",
      "Validation set: loss: 0.11439304                      accuracy:  98.238%\n",
      "epoch: 111  batch:  500 [  5000/5005]  loss: 0.00000014                      accuracy:  99.860%\n",
      "Validation set: loss: 0.14394972                      accuracy:  97.797%\n",
      "epoch: 112  batch:  500 [  5000/5005]  loss: 0.00024508                      accuracy:  99.900%\n",
      "Validation set: loss: 0.13660921                      accuracy:  97.797%\n",
      "epoch: 113  batch:  500 [  5000/5005]  loss: 0.02788854                      accuracy:  99.840%\n",
      "Validation set: loss: 0.16743559                      accuracy:  97.797%\n",
      "epoch: 114  batch:  500 [  5000/5005]  loss: 0.00000182                      accuracy:  99.500%\n",
      "Validation set: loss: 0.11947998                      accuracy:  98.238%\n",
      "epoch: 115  batch:  500 [  5000/5005]  loss: 0.00535721                      accuracy:  99.840%\n",
      "Validation set: loss: 0.11635466                      accuracy:  97.357%\n",
      "epoch: 116  batch:  500 [  5000/5005]  loss: 0.00004805                      accuracy:  99.860%\n",
      "Validation set: loss: 0.10524728                      accuracy:  98.238%\n",
      "epoch: 117  batch:  500 [  5000/5005]  loss: 0.00000323                      accuracy:  99.940%\n",
      "Validation set: loss: 0.12522811                      accuracy:  98.238%\n",
      "epoch: 118  batch:  500 [  5000/5005]  loss: 0.00027454                      accuracy:  99.900%\n",
      "Validation set: loss: 0.12082062                      accuracy:  97.797%\n",
      "epoch: 119  batch:  500 [  5000/5005]  loss: 0.00005112                      accuracy:  99.740%\n",
      "Validation set: loss: 0.14206718                      accuracy:  97.797%\n",
      "epoch: 120  batch:  500 [  5000/5005]  loss: 0.00273408                      accuracy:  99.940%\n",
      "Validation set: loss: 0.13262500                      accuracy:  96.916%\n",
      "epoch: 121  batch:  500 [  5000/5005]  loss: 0.00000024                      accuracy:  99.580%\n",
      "Validation set: loss: 0.14781934                      accuracy:  96.476%\n",
      "epoch: 122  batch:  500 [  5000/5005]  loss: 0.00000056                      accuracy:  99.860%\n",
      "Validation set: loss: 0.12555613                      accuracy:  97.797%\n",
      "epoch: 123  batch:  500 [  5000/5005]  loss: 0.00000492                      accuracy:  99.820%\n",
      "Validation set: loss: 0.11805364                      accuracy:  98.238%\n",
      "epoch: 124  batch:  500 [  5000/5005]  loss: 0.00001246                      accuracy:  99.960%\n",
      "Validation set: loss: 0.08847193                      accuracy:  97.797%\n",
      "epoch: 125  batch:  500 [  5000/5005]  loss: 0.00000312                      accuracy:  99.920%\n",
      "Validation set: loss: 0.12448435                      accuracy:  98.238%\n",
      "epoch: 126  batch:  500 [  5000/5005]  loss: 0.00000000                      accuracy:  99.860%\n",
      "Validation set: loss: 0.12329222                      accuracy:  97.357%\n",
      "epoch: 127  batch:  500 [  5000/5005]  loss: 0.00000920                      accuracy:  99.900%\n",
      "Validation set: loss: 0.16902567                      accuracy:  96.916%\n",
      "epoch: 128  batch:  500 [  5000/5005]  loss: 0.00010735                      accuracy:  99.760%\n",
      "Validation set: loss: 0.13054872                      accuracy:  97.797%\n",
      "epoch: 129  batch:  500 [  5000/5005]  loss: 0.00002348                      accuracy:  99.900%\n",
      "Validation set: loss: 0.14212263                      accuracy:  96.916%\n",
      "epoch: 130  batch:  500 [  5000/5005]  loss: 0.00000035                      accuracy:  99.680%\n",
      "Validation set: loss: 0.14239722                      accuracy:  96.916%\n",
      "epoch: 131  batch:  500 [  5000/5005]  loss: 0.00000000                      accuracy:  99.920%\n",
      "Validation set: loss: 0.13094747                      accuracy:  97.797%\n",
      "epoch: 132  batch:  500 [  5000/5005]  loss: 0.00056788                      accuracy:  99.880%\n",
      "Validation set: loss: 0.13541129                      accuracy:  96.916%\n",
      "epoch: 133  batch:  500 [  5000/5005]  loss: 0.00000000                      accuracy:  99.840%\n",
      "Validation set: loss: 0.16781482                      accuracy:  96.035%\n",
      "epoch: 134  batch:  500 [  5000/5005]  loss: 0.00000001                      accuracy:  99.900%\n",
      "Validation set: loss: 0.12518483                      accuracy:  97.357%\n",
      "epoch: 135  batch:  500 [  5000/5005]  loss: 0.00002003                      accuracy:  99.940%\n",
      "Validation set: loss: 0.13860513                      accuracy:  97.797%\n",
      "epoch: 136  batch:  500 [  5000/5005]  loss: 0.00002022                      accuracy:  99.980%\n",
      "Validation set: loss: 0.15234235                      accuracy:  97.357%\n",
      "epoch: 137  batch:  500 [  5000/5005]  loss: 0.00059305                      accuracy:  99.820%\n",
      "Validation set: loss: 0.15871286                      accuracy:  97.357%\n",
      "epoch: 138  batch:  500 [  5000/5005]  loss: 0.00000077                      accuracy:  99.840%\n",
      "Validation set: loss: 0.12946029                      accuracy:  96.916%\n",
      "epoch: 139  batch:  500 [  5000/5005]  loss: 0.00000051                      accuracy:  99.800%\n",
      "Validation set: loss: 0.07702861                      accuracy:  97.797%\n",
      "epoch: 140  batch:  500 [  5000/5005]  loss: 0.00000014                      accuracy:  99.820%\n",
      "Validation set: loss: 0.10046776                      accuracy:  97.797%\n",
      "epoch: 141  batch:  500 [  5000/5005]  loss: 0.01206942                      accuracy:  99.840%\n",
      "Validation set: loss: 0.08616807                      accuracy:  96.916%\n",
      "epoch: 142  batch:  500 [  5000/5005]  loss: 0.00000066                      accuracy:  99.720%\n",
      "Validation set: loss: 0.09128238                      accuracy:  98.238%\n",
      "epoch: 143  batch:  500 [  5000/5005]  loss: 0.00031477                      accuracy:  99.840%\n",
      "Validation set: loss: 0.09977084                      accuracy:  98.238%\n",
      "epoch: 144  batch:  500 [  5000/5005]  loss: 0.00000000                      accuracy:  99.720%\n",
      "Validation set: loss: 0.09196008                      accuracy:  98.238%\n",
      "epoch: 145  batch:  500 [  5000/5005]  loss: 0.00000328                      accuracy:  99.920%\n",
      "Validation set: loss: 0.15259503                      accuracy:  96.476%\n",
      "epoch: 146  batch:  500 [  5000/5005]  loss: 0.00000000                      accuracy:  99.820%\n",
      "Validation set: loss: 0.12415285                      accuracy:  98.238%\n",
      "epoch: 147  batch:  500 [  5000/5005]  loss: 0.00000021                      accuracy: 100.000%\n",
      "Validation set: loss: 0.12618603                      accuracy:  97.357%\n",
      "epoch: 148  batch:  500 [  5000/5005]  loss: 0.00004587                      accuracy:  99.860%\n",
      "Validation set: loss: 0.11867274                      accuracy:  98.238%\n",
      "epoch: 149  batch:  500 [  5000/5005]  loss: 0.01919741                      accuracy:  99.780%\n",
      "Validation set: loss: 0.06585407                      accuracy:  98.678%\n",
      "epoch: 150  batch:  500 [  5000/5005]  loss: 0.00003449                      accuracy:  99.960%\n",
      "Validation set: loss: 0.10538027                      accuracy:  97.797%\n",
      "epoch: 151  batch:  500 [  5000/5005]  loss: 0.00000007                      accuracy:  99.980%\n",
      "Validation set: loss: 0.11609950                      accuracy:  97.797%\n",
      "epoch: 152  batch:  500 [  5000/5005]  loss: 0.00000000                      accuracy:  99.860%\n",
      "Validation set: loss: 0.16663879                      accuracy:  96.476%\n",
      "epoch: 153  batch:  500 [  5000/5005]  loss: 0.00000037                      accuracy:  99.940%\n",
      "Validation set: loss: 0.12902215                      accuracy:  96.476%\n",
      "epoch: 154  batch:  500 [  5000/5005]  loss: 0.00000018                      accuracy:  99.880%\n",
      "Validation set: loss: 0.13311982                      accuracy:  97.357%\n",
      "epoch: 155  batch:  500 [  5000/5005]  loss: 0.00001755                      accuracy:  99.800%\n",
      "Validation set: loss: 0.11638332                      accuracy:  97.797%\n",
      "epoch: 156  batch:  500 [  5000/5005]  loss: 0.00000182                      accuracy:  99.800%\n",
      "Validation set: loss: 0.10383455                      accuracy:  97.797%\n",
      "epoch: 157  batch:  500 [  5000/5005]  loss: 0.00000001                      accuracy: 100.000%\n",
      "Validation set: loss: 0.14966804                      accuracy:  97.797%\n",
      "epoch: 158  batch:  500 [  5000/5005]  loss: 0.00000001                      accuracy:  99.980%\n",
      "Validation set: loss: 0.16778147                      accuracy:  98.238%\n",
      "epoch: 159  batch:  500 [  5000/5005]  loss: 0.00000433                      accuracy:  99.900%\n",
      "Validation set: loss: 0.12807442                      accuracy:  98.238%\n",
      "epoch: 160  batch:  500 [  5000/5005]  loss: 0.00000041                      accuracy:  99.900%\n",
      "Validation set: loss: 0.22515799                      accuracy:  97.797%\n",
      "epoch: 161  batch:  500 [  5000/5005]  loss: 0.00000000                      accuracy:  99.960%\n",
      "Validation set: loss: 0.17612584                      accuracy:  96.035%\n",
      "epoch: 162  batch:  500 [  5000/5005]  loss: 0.00031014                      accuracy: 100.000%\n",
      "Validation set: loss: 0.15628484                      accuracy:  97.357%\n",
      "epoch: 163  batch:  500 [  5000/5005]  loss: 0.00002525                      accuracy:  99.760%\n",
      "Validation set: loss: 0.18582484                      accuracy:  96.916%\n",
      "epoch: 164  batch:  500 [  5000/5005]  loss: 0.00000027                      accuracy:  99.840%\n",
      "Validation set: loss: 0.16421223                      accuracy:  97.797%\n",
      "epoch: 165  batch:  500 [  5000/5005]  loss: 0.00002522                      accuracy:  99.900%\n",
      "Validation set: loss: 0.22781460                      accuracy:  97.797%\n",
      "epoch: 166  batch:  500 [  5000/5005]  loss: 0.02761427                      accuracy:  99.840%\n",
      "Validation set: loss: 0.21904951                      accuracy:  95.595%\n",
      "epoch: 167  batch:  500 [  5000/5005]  loss: 0.00000019                      accuracy: 100.000%\n",
      "Validation set: loss: 0.18215105                      accuracy:  97.797%\n",
      "epoch: 168  batch:  500 [  5000/5005]  loss: 0.00000000                      accuracy:  99.980%\n",
      "Validation set: loss: 0.14737539                      accuracy:  97.357%\n",
      "epoch: 169  batch:  500 [  5000/5005]  loss: 0.00000001                      accuracy:  99.900%\n",
      "Validation set: loss: 0.16514632                      accuracy:  97.357%\n",
      "epoch: 170  batch:  500 [  5000/5005]  loss: 0.00000075                      accuracy:  99.800%\n",
      "Validation set: loss: 0.23034926                      accuracy:  96.476%\n",
      "epoch: 171  batch:  500 [  5000/5005]  loss: 0.00010167                      accuracy:  99.920%\n",
      "Validation set: loss: 0.15898657                      accuracy:  97.797%\n",
      "epoch: 172  batch:  500 [  5000/5005]  loss: 0.00000000                      accuracy:  99.900%\n",
      "Validation set: loss: 0.20045502                      accuracy:  98.238%\n",
      "epoch: 173  batch:  500 [  5000/5005]  loss: 0.00000007                      accuracy:  99.920%\n",
      "Validation set: loss: 0.18784824                      accuracy:  98.238%\n",
      "epoch: 174  batch:  500 [  5000/5005]  loss: 0.00000000                      accuracy: 100.000%\n",
      "Validation set: loss: 0.17914820                      accuracy:  97.797%\n",
      "epoch: 175  batch:  500 [  5000/5005]  loss: 0.00000690                      accuracy:  99.840%\n",
      "Validation set: loss: 0.19325739                      accuracy:  97.797%\n",
      "epoch: 176  batch:  500 [  5000/5005]  loss: 0.00058337                      accuracy: 100.000%\n",
      "Validation set: loss: 0.19382657                      accuracy:  96.916%\n",
      "epoch: 177  batch:  500 [  5000/5005]  loss: 0.00008782                      accuracy:  99.940%\n",
      "Validation set: loss: 0.20841886                      accuracy:  96.035%\n",
      "epoch: 178  batch:  500 [  5000/5005]  loss: 0.00000018                      accuracy:  99.800%\n",
      "Validation set: loss: 0.16508576                      accuracy:  97.357%\n",
      "epoch: 179  batch:  500 [  5000/5005]  loss: 0.00000069                      accuracy:  99.840%\n",
      "Validation set: loss: 0.16531566                      accuracy:  97.797%\n",
      "epoch: 180  batch:  500 [  5000/5005]  loss: 0.00000030                      accuracy:  99.900%\n",
      "Validation set: loss: 0.23179299                      accuracy:  97.797%\n",
      "epoch: 181  batch:  500 [  5000/5005]  loss: 0.00000000                      accuracy:  99.940%\n",
      "Validation set: loss: 0.18172407                      accuracy:  96.476%\n",
      "epoch: 182  batch:  500 [  5000/5005]  loss: 0.00000000                      accuracy:  99.920%\n",
      "Validation set: loss: 0.19030024                      accuracy:  97.357%\n",
      "epoch: 183  batch:  500 [  5000/5005]  loss: 0.00001942                      accuracy:  99.860%\n",
      "Validation set: loss: 0.20936160                      accuracy:  96.916%\n",
      "epoch: 184  batch:  500 [  5000/5005]  loss: 0.00000061                      accuracy:  99.880%\n",
      "Validation set: loss: 0.12280646                      accuracy:  98.238%\n",
      "epoch: 185  batch:  500 [  5000/5005]  loss: 0.00000000                      accuracy:  99.880%\n",
      "Validation set: loss: 0.13982204                      accuracy:  97.797%\n",
      "epoch: 186  batch:  500 [  5000/5005]  loss: 0.00000012                      accuracy:  99.960%\n",
      "Validation set: loss: 0.10443527                      accuracy:  98.678%\n",
      "epoch: 187  batch:  500 [  5000/5005]  loss: 0.00000001                      accuracy: 100.000%\n",
      "Validation set: loss: 0.12093619                      accuracy:  98.238%\n",
      "epoch: 188  batch:  500 [  5000/5005]  loss: 0.00000488                      accuracy: 100.000%\n",
      "Validation set: loss: 0.16863668                      accuracy:  97.797%\n",
      "epoch: 189  batch:  500 [  5000/5005]  loss: 0.00000006                      accuracy:  99.900%\n",
      "Validation set: loss: 0.15096006                      accuracy:  97.797%\n",
      "epoch: 190  batch:  500 [  5000/5005]  loss: 0.00000828                      accuracy:  99.860%\n",
      "Validation set: loss: 0.19607545                      accuracy:  97.357%\n",
      "epoch: 191  batch:  500 [  5000/5005]  loss: 0.00000052                      accuracy:  99.900%\n",
      "Validation set: loss: 0.19302003                      accuracy:  97.357%\n",
      "epoch: 192  batch:  500 [  5000/5005]  loss: 0.00051924                      accuracy:  99.960%\n",
      "Validation set: loss: 0.20841596                      accuracy:  97.357%\n",
      "epoch: 193  batch:  500 [  5000/5005]  loss: 0.00000048                      accuracy:  99.880%\n",
      "Validation set: loss: 0.14606096                      accuracy:  96.916%\n",
      "epoch: 194  batch:  500 [  5000/5005]  loss: 0.00000018                      accuracy:  99.800%\n",
      "Validation set: loss: 0.14632183                      accuracy:  96.916%\n",
      "epoch: 195  batch:  500 [  5000/5005]  loss: 0.00000024                      accuracy: 100.000%\n",
      "Validation set: loss: 0.13653372                      accuracy:  97.357%\n",
      "epoch: 196  batch:  500 [  5000/5005]  loss: 0.00002739                      accuracy: 100.000%\n",
      "Validation set: loss: 0.14941542                      accuracy:  97.797%\n",
      "epoch: 197  batch:  500 [  5000/5005]  loss: 0.00000000                      accuracy:  99.800%\n",
      "Validation set: loss: 0.17360161                      accuracy:  96.916%\n",
      "epoch: 198  batch:  500 [  5000/5005]  loss: 0.00000000                      accuracy:  99.880%\n",
      "Validation set: loss: 0.14722417                      accuracy:  97.357%\n",
      "epoch: 199  batch:  500 [  5000/5005]  loss: 0.00000000                      accuracy:  99.920%\n",
      "Validation set: loss: 0.14132041                      accuracy:  97.797%\n",
      "\n",
      "Duration: 18511 seconds\n"
     ]
    }
   ],
   "source": [
    "import time\n",
    "torch.manual_seed(321)\n",
    "\n",
    "start_time = time.time()\n",
    "\n",
    "epochs = 200\n",
    "\n",
    "# max_trn_batch = 10\n",
    "# max_val_batch = 2\n",
    "\n",
    "\n",
    "\n",
    "for i in range(epochs):\n",
    "    trn_corr = 0\n",
    "    tst_corr = 0\n",
    "    \n",
    "    # Run the training batches\n",
    "    for b, (X_train, y_train) in enumerate(train_loader):\n",
    "        X_train, y_train = X_train.to(device), y_train.to(device)\n",
    "        b+=1\n",
    "        \n",
    "        # Apply the model\n",
    "        y_pred = model(X_train)\n",
    "        loss = criterion(y_pred, y_train)\n",
    " \n",
    "        # Tally the number of correct predictions\n",
    "        predicted = torch.max(y_pred.data, 1)[1]\n",
    "        batch_corr = (predicted == y_train).sum()\n",
    "        trn_corr += batch_corr\n",
    "        \n",
    "        # Update parameters\n",
    "        optimizer.zero_grad()\n",
    "        loss.backward()\n",
    "        optimizer.step()\n",
    "        # Print interim results\n",
    "        if b % ((len(train_data)-len(train_data)%10)/batch_size) == 0 or b == (int(len(train_data)/batch_size)):\n",
    "            print(f'epoch: {model.epoch:2}  batch: {b:4} [{batch_size*b:6}/{len(train_data)}]  loss: {loss.item():10.8f}  \\\n",
    "                    accuracy: {trn_corr.item()*100/(batch_size*b):7.3f}%')\n",
    "\n",
    "    torch.cuda.empty_cache()\n",
    "    model.train_losses.append(loss)\n",
    "    model.train_correct.append(trn_corr)\n",
    "\n",
    "    # Run the valing batches\n",
    "    with torch.no_grad():\n",
    "        loss = 0\n",
    "        for b, (X_val, y_val) in enumerate(val_loader):\n",
    "            X_val, y_val = X_val.to(device), y_val.to(device)\n",
    "\n",
    "            # Apply the model\n",
    "            y_pred = model(X_val)\n",
    "            loss += criterion(y_pred, y_val)\n",
    "\n",
    "            # Tally the number of correct predictions\n",
    "            predicted = torch.max(y_pred.data, 1)[1] \n",
    "            tst_corr += (predicted == y_val).sum()\n",
    "\n",
    "    print(f'Validation set: loss: {loss.item():10.8f}  \\\n",
    "                    accuracy: {tst_corr.item()*100/(len(val_data)):7.3f}%')\n",
    "    if loss < model.min_loss:\n",
    "        torch.save(model, f'Model7Epoch{model.epoch}.pt')\n",
    "        model.min_loss = loss\n",
    "    model.val_losses.append(loss)\n",
    "    model.val_correct.append(tst_corr)\n",
    "    model.epoch += 1\n",
    "    torch.save(model, f'Model7Current.pt')\n",
    "    torch.cuda.empty_cache()\n",
    "\n",
    "torch.save(model, f'Model7Final.pt')\n",
    "print(f'\\nDuration: {time.time() - start_time:.0f} seconds') # print the time elapsed"
   ]
  },
  {
   "cell_type": "code",
   "execution_count": 23,
   "metadata": {},
   "outputs": [
    {
     "data": {
      "text/plain": [
       "Model(\n",
       "  (features): Sequential(\n",
       "    (0): Conv2d(3, 64, kernel_size=(3, 3), stride=(1, 1))\n",
       "    (1): Conv2d(64, 64, kernel_size=(3, 3), stride=(1, 1), padding=(1, 1))\n",
       "    (2): ReLU(inplace=True)\n",
       "    (3): MaxPool2d(kernel_size=2, stride=2, padding=0, dilation=1, ceil_mode=False)\n",
       "    (4): Conv2d(64, 64, kernel_size=(3, 3), stride=(1, 1))\n",
       "    (5): ReLU(inplace=True)\n",
       "    (6): MaxPool2d(kernel_size=2, stride=2, padding=0, dilation=1, ceil_mode=False)\n",
       "    (7): Conv2d(64, 64, kernel_size=(3, 3), stride=(1, 1))\n",
       "    (8): MaxPool2d(kernel_size=2, stride=2, padding=0, dilation=1, ceil_mode=False)\n",
       "  )\n",
       "  (classifier): Sequential(\n",
       "    (0): Dropout(p=0.5, inplace=False)\n",
       "    (1): Linear(in_features=18496, out_features=64, bias=True)\n",
       "    (2): ReLU(inplace=True)\n",
       "    (3): Dropout(p=0.5, inplace=False)\n",
       "    (4): Linear(in_features=64, out_features=2, bias=True)\n",
       "  )\n",
       ")"
      ]
     },
     "execution_count": 23,
     "metadata": {},
     "output_type": "execute_result"
    }
   ],
   "source": [
    "torch.save(model, f'customModel7Epoch.pt')\n",
    "model.eval()"
   ]
  },
  {
   "cell_type": "code",
   "execution_count": 60,
   "metadata": {},
   "outputs": [],
   "source": [
    "model = torch.load('customModel7Epoch90.pt')"
   ]
  },
  {
   "cell_type": "code",
   "execution_count": 10,
   "metadata": {},
   "outputs": [
    {
     "data": {
      "image/png": "[encoded data removed]",
      "text/plain": [
       "<Figure size 432x288 with 1 Axes>"
      ]
     },
     "metadata": {
      "needs_background": "light"
     },
     "output_type": "display_data"
    }
   ],
   "source": [
    "plt.plot(model.train_losses, label='training loss')\n",
    "plt.plot(model.val_losses, label='validation loss')\n",
    "plt.title('Loss at the end of each epoch')\n",
    "plt.legend();\n",
    "plt.savefig(\"Model7Loss.png\")"
   ]
  },
  {
   "cell_type": "code",
   "execution_count": 11,
   "metadata": {},
   "outputs": [
    {
     "data": {
      "image/png": "[encoded data removed]",
      "text/plain": [
       "<Figure size 432x288 with 1 Axes>"
      ]
     },
     "metadata": {
      "needs_background": "light"
     },
     "output_type": "display_data"
    }
   ],
   "source": [
    "plt.plot([t.item()*100/len(train_data) for t in model.train_correct], label='training accuracy')\n",
    "plt.plot([t.item()*100/len(val_data) for t in model.val_correct], label='validation accuracy')\n",
    "plt.title('Accuracy at the end of each epoch')\n",
    "plt.legend();\n",
    "plt.savefig(\"Model7Acc.png\")"
   ]
  },
  {
   "cell_type": "code",
   "execution_count": null,
   "metadata": {},
   "outputs": [],
   "source": []
  },
  {
   "cell_type": "code",
   "execution_count": 56,
   "metadata": {},
   "outputs": [],
   "source": [
    "with torch.no_grad():\n",
    "    tst_corr = 0\n",
    "    for (X_test, y_test) in (test_loader):\n",
    "        X_test, y_test = X_test.to(device), y_test.to(device)\n",
    "        y_pred = model(X_test)\n",
    "#         predicted = ((y_pred > .5)).type(torch.int64)\n",
    "#         tst_corr += (predicted == y_test).sum()\n",
    "        break"
   ]
  },
  {
   "cell_type": "code",
   "execution_count": null,
   "metadata": {},
   "outputs": [],
   "source": []
  },
  {
   "cell_type": "code",
   "execution_count": 16,
   "metadata": {},
   "outputs": [
    {
     "ename": "RuntimeError",
     "evalue": "CUDA out of memory. Tried to allocate 3.26 GiB (GPU 0; 11.17 GiB total capacity; 3.81 GiB already allocated; 1.93 GiB free; 31.80 MiB cached)",
     "output_type": "error",
     "traceback": [
      "\u001b[0;31m---------------------------------------------------------------------------\u001b[0m",
      "\u001b[0;31mRuntimeError\u001b[0m                              Traceback (most recent call last)",
      "\u001b[0;32m<ipython-input-16-d515a51f22b7>\u001b[0m in \u001b[0;36m<module>\u001b[0;34m\u001b[0m\n\u001b[1;32m      3\u001b[0m     \u001b[0;32mfor\u001b[0m \u001b[0mb\u001b[0m\u001b[0;34m,\u001b[0m \u001b[0;34m(\u001b[0m\u001b[0mX_test\u001b[0m\u001b[0;34m,\u001b[0m \u001b[0my_test\u001b[0m\u001b[0;34m)\u001b[0m \u001b[0;32min\u001b[0m \u001b[0menumerate\u001b[0m\u001b[0;34m(\u001b[0m\u001b[0mtest_loader\u001b[0m\u001b[0;34m)\u001b[0m\u001b[0;34m:\u001b[0m\u001b[0;34m\u001b[0m\u001b[0;34m\u001b[0m\u001b[0m\n\u001b[1;32m      4\u001b[0m         \u001b[0mX_test\u001b[0m\u001b[0;34m,\u001b[0m \u001b[0my_test\u001b[0m \u001b[0;34m=\u001b[0m \u001b[0mX_test\u001b[0m\u001b[0;34m.\u001b[0m\u001b[0mto\u001b[0m\u001b[0;34m(\u001b[0m\u001b[0mdevice\u001b[0m\u001b[0;34m)\u001b[0m\u001b[0;34m,\u001b[0m \u001b[0my_test\u001b[0m\u001b[0;34m.\u001b[0m\u001b[0mto\u001b[0m\u001b[0;34m(\u001b[0m\u001b[0mdevice\u001b[0m\u001b[0;34m)\u001b[0m\u001b[0;34m\u001b[0m\u001b[0;34m\u001b[0m\u001b[0m\n\u001b[0;32m----> 5\u001b[0;31m         \u001b[0my_pred\u001b[0m \u001b[0;34m=\u001b[0m \u001b[0mmodel\u001b[0m\u001b[0;34m(\u001b[0m\u001b[0mX_test\u001b[0m\u001b[0;34m)\u001b[0m\u001b[0;34m\u001b[0m\u001b[0;34m\u001b[0m\u001b[0m\n\u001b[0m\u001b[1;32m      6\u001b[0m         \u001b[0mpredicted\u001b[0m \u001b[0;34m=\u001b[0m \u001b[0mtorch\u001b[0m\u001b[0;34m.\u001b[0m\u001b[0mmax\u001b[0m\u001b[0;34m(\u001b[0m\u001b[0my_pred\u001b[0m\u001b[0;34m.\u001b[0m\u001b[0mdata\u001b[0m\u001b[0;34m,\u001b[0m \u001b[0;36m1\u001b[0m\u001b[0;34m)\u001b[0m\u001b[0;34m[\u001b[0m\u001b[0;36m1\u001b[0m\u001b[0;34m]\u001b[0m\u001b[0;34m\u001b[0m\u001b[0;34m\u001b[0m\u001b[0m\n\u001b[1;32m      7\u001b[0m         \u001b[0mtst_corr\u001b[0m \u001b[0;34m+=\u001b[0m \u001b[0;34m(\u001b[0m\u001b[0mpredicted\u001b[0m \u001b[0;34m==\u001b[0m \u001b[0my_test\u001b[0m\u001b[0;34m)\u001b[0m\u001b[0;34m.\u001b[0m\u001b[0msum\u001b[0m\u001b[0;34m(\u001b[0m\u001b[0;34m)\u001b[0m\u001b[0;34m\u001b[0m\u001b[0;34m\u001b[0m\u001b[0m\n",
      "\u001b[0;32m/opt/anaconda3/lib/python3.7/site-packages/torch/nn/modules/module.py\u001b[0m in \u001b[0;36m__call__\u001b[0;34m(self, *input, **kwargs)\u001b[0m\n\u001b[1;32m    545\u001b[0m             \u001b[0mresult\u001b[0m \u001b[0;34m=\u001b[0m \u001b[0mself\u001b[0m\u001b[0;34m.\u001b[0m\u001b[0m_slow_forward\u001b[0m\u001b[0;34m(\u001b[0m\u001b[0;34m*\u001b[0m\u001b[0minput\u001b[0m\u001b[0;34m,\u001b[0m \u001b[0;34m**\u001b[0m\u001b[0mkwargs\u001b[0m\u001b[0;34m)\u001b[0m\u001b[0;34m\u001b[0m\u001b[0;34m\u001b[0m\u001b[0m\n\u001b[1;32m    546\u001b[0m         \u001b[0;32melse\u001b[0m\u001b[0;34m:\u001b[0m\u001b[0;34m\u001b[0m\u001b[0;34m\u001b[0m\u001b[0m\n\u001b[0;32m--> 547\u001b[0;31m             \u001b[0mresult\u001b[0m \u001b[0;34m=\u001b[0m \u001b[0mself\u001b[0m\u001b[0;34m.\u001b[0m\u001b[0mforward\u001b[0m\u001b[0;34m(\u001b[0m\u001b[0;34m*\u001b[0m\u001b[0minput\u001b[0m\u001b[0;34m,\u001b[0m \u001b[0;34m**\u001b[0m\u001b[0mkwargs\u001b[0m\u001b[0;34m)\u001b[0m\u001b[0;34m\u001b[0m\u001b[0;34m\u001b[0m\u001b[0m\n\u001b[0m\u001b[1;32m    548\u001b[0m         \u001b[0;32mfor\u001b[0m \u001b[0mhook\u001b[0m \u001b[0;32min\u001b[0m \u001b[0mself\u001b[0m\u001b[0;34m.\u001b[0m\u001b[0m_forward_hooks\u001b[0m\u001b[0;34m.\u001b[0m\u001b[0mvalues\u001b[0m\u001b[0;34m(\u001b[0m\u001b[0;34m)\u001b[0m\u001b[0;34m:\u001b[0m\u001b[0;34m\u001b[0m\u001b[0;34m\u001b[0m\u001b[0m\n\u001b[1;32m    549\u001b[0m             \u001b[0mhook_result\u001b[0m \u001b[0;34m=\u001b[0m \u001b[0mhook\u001b[0m\u001b[0;34m(\u001b[0m\u001b[0mself\u001b[0m\u001b[0;34m,\u001b[0m \u001b[0minput\u001b[0m\u001b[0;34m,\u001b[0m \u001b[0mresult\u001b[0m\u001b[0;34m)\u001b[0m\u001b[0;34m\u001b[0m\u001b[0;34m\u001b[0m\u001b[0m\n",
      "\u001b[0;32m<ipython-input-6-5443dbd0ced4>\u001b[0m in \u001b[0;36mforward\u001b[0;34m(self, x)\u001b[0m\n\u001b[1;32m     31\u001b[0m \u001b[0;34m\u001b[0m\u001b[0m\n\u001b[1;32m     32\u001b[0m     \u001b[0;32mdef\u001b[0m \u001b[0mforward\u001b[0m\u001b[0;34m(\u001b[0m\u001b[0mself\u001b[0m\u001b[0;34m,\u001b[0m \u001b[0mx\u001b[0m\u001b[0;34m)\u001b[0m\u001b[0;34m:\u001b[0m\u001b[0;34m\u001b[0m\u001b[0;34m\u001b[0m\u001b[0m\n\u001b[0;32m---> 33\u001b[0;31m         \u001b[0mx\u001b[0m \u001b[0;34m=\u001b[0m \u001b[0mself\u001b[0m\u001b[0;34m.\u001b[0m\u001b[0mfeatures\u001b[0m\u001b[0;34m(\u001b[0m\u001b[0mx\u001b[0m\u001b[0;34m)\u001b[0m\u001b[0;34m\u001b[0m\u001b[0;34m\u001b[0m\u001b[0m\n\u001b[0m\u001b[1;32m     34\u001b[0m         \u001b[0mx\u001b[0m \u001b[0;34m=\u001b[0m \u001b[0mx\u001b[0m\u001b[0;34m.\u001b[0m\u001b[0mview\u001b[0m\u001b[0;34m(\u001b[0m\u001b[0;34m-\u001b[0m\u001b[0;36m1\u001b[0m\u001b[0;34m,\u001b[0m \u001b[0;36m17\u001b[0m\u001b[0;34m*\u001b[0m\u001b[0;36m17\u001b[0m\u001b[0;34m*\u001b[0m\u001b[0;36m64\u001b[0m\u001b[0;34m)\u001b[0m\u001b[0;34m\u001b[0m\u001b[0;34m\u001b[0m\u001b[0m\n\u001b[1;32m     35\u001b[0m         \u001b[0mx\u001b[0m \u001b[0;34m=\u001b[0m \u001b[0mself\u001b[0m\u001b[0;34m.\u001b[0m\u001b[0mclassifier\u001b[0m\u001b[0;34m(\u001b[0m\u001b[0mx\u001b[0m\u001b[0;34m)\u001b[0m\u001b[0;34m\u001b[0m\u001b[0;34m\u001b[0m\u001b[0m\n",
      "\u001b[0;32m/opt/anaconda3/lib/python3.7/site-packages/torch/nn/modules/module.py\u001b[0m in \u001b[0;36m__call__\u001b[0;34m(self, *input, **kwargs)\u001b[0m\n\u001b[1;32m    545\u001b[0m             \u001b[0mresult\u001b[0m \u001b[0;34m=\u001b[0m \u001b[0mself\u001b[0m\u001b[0;34m.\u001b[0m\u001b[0m_slow_forward\u001b[0m\u001b[0;34m(\u001b[0m\u001b[0;34m*\u001b[0m\u001b[0minput\u001b[0m\u001b[0;34m,\u001b[0m \u001b[0;34m**\u001b[0m\u001b[0mkwargs\u001b[0m\u001b[0;34m)\u001b[0m\u001b[0;34m\u001b[0m\u001b[0;34m\u001b[0m\u001b[0m\n\u001b[1;32m    546\u001b[0m         \u001b[0;32melse\u001b[0m\u001b[0;34m:\u001b[0m\u001b[0;34m\u001b[0m\u001b[0;34m\u001b[0m\u001b[0m\n\u001b[0;32m--> 547\u001b[0;31m             \u001b[0mresult\u001b[0m \u001b[0;34m=\u001b[0m \u001b[0mself\u001b[0m\u001b[0;34m.\u001b[0m\u001b[0mforward\u001b[0m\u001b[0;34m(\u001b[0m\u001b[0;34m*\u001b[0m\u001b[0minput\u001b[0m\u001b[0;34m,\u001b[0m \u001b[0;34m**\u001b[0m\u001b[0mkwargs\u001b[0m\u001b[0;34m)\u001b[0m\u001b[0;34m\u001b[0m\u001b[0;34m\u001b[0m\u001b[0m\n\u001b[0m\u001b[1;32m    548\u001b[0m         \u001b[0;32mfor\u001b[0m \u001b[0mhook\u001b[0m \u001b[0;32min\u001b[0m \u001b[0mself\u001b[0m\u001b[0;34m.\u001b[0m\u001b[0m_forward_hooks\u001b[0m\u001b[0;34m.\u001b[0m\u001b[0mvalues\u001b[0m\u001b[0;34m(\u001b[0m\u001b[0;34m)\u001b[0m\u001b[0;34m:\u001b[0m\u001b[0;34m\u001b[0m\u001b[0;34m\u001b[0m\u001b[0m\n\u001b[1;32m    549\u001b[0m             \u001b[0mhook_result\u001b[0m \u001b[0;34m=\u001b[0m \u001b[0mhook\u001b[0m\u001b[0;34m(\u001b[0m\u001b[0mself\u001b[0m\u001b[0;34m,\u001b[0m \u001b[0minput\u001b[0m\u001b[0;34m,\u001b[0m \u001b[0mresult\u001b[0m\u001b[0;34m)\u001b[0m\u001b[0;34m\u001b[0m\u001b[0;34m\u001b[0m\u001b[0m\n",
      "\u001b[0;32m/opt/anaconda3/lib/python3.7/site-packages/torch/nn/modules/container.py\u001b[0m in \u001b[0;36mforward\u001b[0;34m(self, input)\u001b[0m\n\u001b[1;32m     90\u001b[0m     \u001b[0;32mdef\u001b[0m \u001b[0mforward\u001b[0m\u001b[0;34m(\u001b[0m\u001b[0mself\u001b[0m\u001b[0;34m,\u001b[0m \u001b[0minput\u001b[0m\u001b[0;34m)\u001b[0m\u001b[0;34m:\u001b[0m\u001b[0;34m\u001b[0m\u001b[0;34m\u001b[0m\u001b[0m\n\u001b[1;32m     91\u001b[0m         \u001b[0;32mfor\u001b[0m \u001b[0mmodule\u001b[0m \u001b[0;32min\u001b[0m \u001b[0mself\u001b[0m\u001b[0;34m.\u001b[0m\u001b[0m_modules\u001b[0m\u001b[0;34m.\u001b[0m\u001b[0mvalues\u001b[0m\u001b[0;34m(\u001b[0m\u001b[0;34m)\u001b[0m\u001b[0;34m:\u001b[0m\u001b[0;34m\u001b[0m\u001b[0;34m\u001b[0m\u001b[0m\n\u001b[0;32m---> 92\u001b[0;31m             \u001b[0minput\u001b[0m \u001b[0;34m=\u001b[0m \u001b[0mmodule\u001b[0m\u001b[0;34m(\u001b[0m\u001b[0minput\u001b[0m\u001b[0;34m)\u001b[0m\u001b[0;34m\u001b[0m\u001b[0;34m\u001b[0m\u001b[0m\n\u001b[0m\u001b[1;32m     93\u001b[0m         \u001b[0;32mreturn\u001b[0m \u001b[0minput\u001b[0m\u001b[0;34m\u001b[0m\u001b[0;34m\u001b[0m\u001b[0m\n\u001b[1;32m     94\u001b[0m \u001b[0;34m\u001b[0m\u001b[0m\n",
      "\u001b[0;32m/opt/anaconda3/lib/python3.7/site-packages/torch/nn/modules/module.py\u001b[0m in \u001b[0;36m__call__\u001b[0;34m(self, *input, **kwargs)\u001b[0m\n\u001b[1;32m    545\u001b[0m             \u001b[0mresult\u001b[0m \u001b[0;34m=\u001b[0m \u001b[0mself\u001b[0m\u001b[0;34m.\u001b[0m\u001b[0m_slow_forward\u001b[0m\u001b[0;34m(\u001b[0m\u001b[0;34m*\u001b[0m\u001b[0minput\u001b[0m\u001b[0;34m,\u001b[0m \u001b[0;34m**\u001b[0m\u001b[0mkwargs\u001b[0m\u001b[0;34m)\u001b[0m\u001b[0;34m\u001b[0m\u001b[0;34m\u001b[0m\u001b[0m\n\u001b[1;32m    546\u001b[0m         \u001b[0;32melse\u001b[0m\u001b[0;34m:\u001b[0m\u001b[0;34m\u001b[0m\u001b[0;34m\u001b[0m\u001b[0m\n\u001b[0;32m--> 547\u001b[0;31m             \u001b[0mresult\u001b[0m \u001b[0;34m=\u001b[0m \u001b[0mself\u001b[0m\u001b[0;34m.\u001b[0m\u001b[0mforward\u001b[0m\u001b[0;34m(\u001b[0m\u001b[0;34m*\u001b[0m\u001b[0minput\u001b[0m\u001b[0;34m,\u001b[0m \u001b[0;34m**\u001b[0m\u001b[0mkwargs\u001b[0m\u001b[0;34m)\u001b[0m\u001b[0;34m\u001b[0m\u001b[0;34m\u001b[0m\u001b[0m\n\u001b[0m\u001b[1;32m    548\u001b[0m         \u001b[0;32mfor\u001b[0m \u001b[0mhook\u001b[0m \u001b[0;32min\u001b[0m \u001b[0mself\u001b[0m\u001b[0;34m.\u001b[0m\u001b[0m_forward_hooks\u001b[0m\u001b[0;34m.\u001b[0m\u001b[0mvalues\u001b[0m\u001b[0;34m(\u001b[0m\u001b[0;34m)\u001b[0m\u001b[0;34m:\u001b[0m\u001b[0;34m\u001b[0m\u001b[0;34m\u001b[0m\u001b[0m\n\u001b[1;32m    549\u001b[0m             \u001b[0mhook_result\u001b[0m \u001b[0;34m=\u001b[0m \u001b[0mhook\u001b[0m\u001b[0;34m(\u001b[0m\u001b[0mself\u001b[0m\u001b[0;34m,\u001b[0m \u001b[0minput\u001b[0m\u001b[0;34m,\u001b[0m \u001b[0mresult\u001b[0m\u001b[0;34m)\u001b[0m\u001b[0;34m\u001b[0m\u001b[0;34m\u001b[0m\u001b[0m\n",
      "\u001b[0;32m/opt/anaconda3/lib/python3.7/site-packages/torch/nn/modules/conv.py\u001b[0m in \u001b[0;36mforward\u001b[0;34m(self, input)\u001b[0m\n\u001b[1;32m    341\u001b[0m \u001b[0;34m\u001b[0m\u001b[0m\n\u001b[1;32m    342\u001b[0m     \u001b[0;32mdef\u001b[0m \u001b[0mforward\u001b[0m\u001b[0;34m(\u001b[0m\u001b[0mself\u001b[0m\u001b[0;34m,\u001b[0m \u001b[0minput\u001b[0m\u001b[0;34m)\u001b[0m\u001b[0;34m:\u001b[0m\u001b[0;34m\u001b[0m\u001b[0;34m\u001b[0m\u001b[0m\n\u001b[0;32m--> 343\u001b[0;31m         \u001b[0;32mreturn\u001b[0m \u001b[0mself\u001b[0m\u001b[0;34m.\u001b[0m\u001b[0mconv2d_forward\u001b[0m\u001b[0;34m(\u001b[0m\u001b[0minput\u001b[0m\u001b[0;34m,\u001b[0m \u001b[0mself\u001b[0m\u001b[0;34m.\u001b[0m\u001b[0mweight\u001b[0m\u001b[0;34m)\u001b[0m\u001b[0;34m\u001b[0m\u001b[0;34m\u001b[0m\u001b[0m\n\u001b[0m\u001b[1;32m    344\u001b[0m \u001b[0;34m\u001b[0m\u001b[0m\n\u001b[1;32m    345\u001b[0m \u001b[0;32mclass\u001b[0m \u001b[0mConv3d\u001b[0m\u001b[0;34m(\u001b[0m\u001b[0m_ConvNd\u001b[0m\u001b[0;34m)\u001b[0m\u001b[0;34m:\u001b[0m\u001b[0;34m\u001b[0m\u001b[0;34m\u001b[0m\u001b[0m\n",
      "\u001b[0;32m/opt/anaconda3/lib/python3.7/site-packages/torch/nn/modules/conv.py\u001b[0m in \u001b[0;36mconv2d_forward\u001b[0;34m(self, input, weight)\u001b[0m\n\u001b[1;32m    338\u001b[0m                             _pair(0), self.dilation, self.groups)\n\u001b[1;32m    339\u001b[0m         return F.conv2d(input, weight, self.bias, self.stride,\n\u001b[0;32m--> 340\u001b[0;31m                         self.padding, self.dilation, self.groups)\n\u001b[0m\u001b[1;32m    341\u001b[0m \u001b[0;34m\u001b[0m\u001b[0m\n\u001b[1;32m    342\u001b[0m     \u001b[0;32mdef\u001b[0m \u001b[0mforward\u001b[0m\u001b[0;34m(\u001b[0m\u001b[0mself\u001b[0m\u001b[0;34m,\u001b[0m \u001b[0minput\u001b[0m\u001b[0;34m)\u001b[0m\u001b[0;34m:\u001b[0m\u001b[0;34m\u001b[0m\u001b[0;34m\u001b[0m\u001b[0m\n",
      "\u001b[0;31mRuntimeError\u001b[0m: CUDA out of memory. Tried to allocate 3.26 GiB (GPU 0; 11.17 GiB total capacity; 3.81 GiB already allocated; 1.93 GiB free; 31.80 MiB cached)"
     ]
    }
   ],
   "source": [
    "with torch.no_grad():\n",
    "    tst_corr = 0\n",
    "    for b, (X_test, y_test) in enumerate(test_loader):\n",
    "        X_test, y_test = X_test.to(device), y_test.to(device)\n",
    "        y_pred = model(X_test)\n",
    "        predicted = torch.max(y_pred.data, 1)[1] \n",
    "        tst_corr += (predicted == y_test).sum()\n"
   ]
  },
  {
   "cell_type": "code",
   "execution_count": 58,
   "metadata": {},
   "outputs": [
    {
     "data": {
      "text/plain": [
       "75.32051282051282"
      ]
     },
     "execution_count": 58,
     "metadata": {},
     "output_type": "execute_result"
    }
   ],
   "source": [
    "tst_corr.item()/624*100"
   ]
  },
  {
   "cell_type": "code",
   "execution_count": 33,
   "metadata": {},
   "outputs": [
    {
     "data": {
      "text/plain": [
       "Model(\n",
       "  (features): Sequential(\n",
       "    (0): Conv2d(3, 64, kernel_size=(3, 3), stride=(1, 1))\n",
       "    (1): Conv2d(64, 64, kernel_size=(3, 3), stride=(1, 1), padding=(1, 1))\n",
       "    (2): ReLU(inplace=True)\n",
       "    (3): MaxPool2d(kernel_size=2, stride=2, padding=0, dilation=1, ceil_mode=False)\n",
       "    (4): Conv2d(64, 64, kernel_size=(3, 3), stride=(1, 1))\n",
       "    (5): ReLU(inplace=True)\n",
       "    (6): MaxPool2d(kernel_size=2, stride=2, padding=0, dilation=1, ceil_mode=False)\n",
       "    (7): Conv2d(64, 64, kernel_size=(3, 3), stride=(1, 1))\n",
       "    (8): MaxPool2d(kernel_size=2, stride=2, padding=0, dilation=1, ceil_mode=False)\n",
       "  )\n",
       "  (classifier): Sequential(\n",
       "    (0): Dropout(p=0.5, inplace=False)\n",
       "    (1): Linear(in_features=18496, out_features=64, bias=True)\n",
       "    (2): ReLU(inplace=True)\n",
       "    (3): Dropout(p=0.5, inplace=False)\n",
       "    (4): Linear(in_features=64, out_features=2, bias=True)\n",
       "  )\n",
       ")"
      ]
     },
     "execution_count": 33,
     "metadata": {},
     "output_type": "execute_result"
    }
   ],
   "source": [
    "model2 = torch.load('Model7Final.pt')\n",
    "model2 = model2.cpu()\n",
    "device=\"cpu\"\n",
    "model2.eval()"
   ]
  },
  {
   "cell_type": "code",
   "execution_count": 20,
   "metadata": {},
   "outputs": [
    {
     "name": "stdout",
     "output_type": "stream",
     "text": [
      "78.36538461538461\n"
     ]
    }
   ],
   "source": [
    "with torch.no_grad():\n",
    "    tst_corr = 0\n",
    "    for b, (X_test, y_test) in enumerate(test_loader):\n",
    "        \n",
    "        X_test, y_test = X_test.to(device), y_test.to(device)\n",
    "        y_pred = model2(X_test)\n",
    "        predicted = torch.max(y_pred.data, 1)[1] \n",
    "        tst_corr += (predicted == y_test).sum()\n",
    "print(tst_corr.item()/624*100)"
   ]
  },
  {
   "cell_type": "code",
   "execution_count": 34,
   "metadata": {},
   "outputs": [
    {
     "name": "stdout",
     "output_type": "stream",
     "text": [
      "77.56410256410257\n"
     ]
    },
    {
     "data": {
      "image/png": "[encoded data removed]",
      "text/plain": [
       "<Figure size 648x432 with 2 Axes>"
      ]
     },
     "metadata": {
      "needs_background": "light"
     },
     "output_type": "display_data"
    },
    {
     "data": {
      "text/plain": [
       "<Figure size 432x288 with 0 Axes>"
      ]
     },
     "metadata": {},
     "output_type": "display_data"
    }
   ],
   "source": [
    "test_load_all = DataLoader(test_data, batch_size=len(test_data), shuffle=False)\n",
    "\n",
    "with torch.no_grad():\n",
    "    correct = 0\n",
    "    for X_test, y_test in test_load_all:\n",
    "        X_test, y_test = X_test.to(device), y_test.to(device)\n",
    "        y_val = model2(X_test)\n",
    "        predicted = torch.max(y_val,1)[1]\n",
    "        correct += (predicted == y_test).sum()\n",
    "\n",
    "print(correct.item()/624*100)\n",
    "arr = confusion_matrix(y_test.view(-1).cpu(), predicted.view(-1).cpu())\n",
    "df_cm = pd.DataFrame(arr, class_names, class_names)\n",
    "plt.figure(figsize = (9,6))\n",
    "sn.heatmap(df_cm, annot=True, fmt=\"d\", cmap='BuGn')\n",
    "plt.xlabel(\"prediction\")\n",
    "plt.ylabel(\"label (ground truth)\")\n",
    "plt.show();\n",
    "plt.savefig(\"Model7v2HeatMap.png\")"
   ]
  },
  {
   "cell_type": "code",
   "execution_count": 35,
   "metadata": {},
   "outputs": [
    {
     "name": "stdout",
     "output_type": "stream",
     "text": [
      "Recall of the model is 0.99\n",
      "Precision of the model is 0.74\n"
     ]
    }
   ],
   "source": [
    "tn, fp, fn, tp = arr.ravel()\n",
    "precision = tp/(tp+fp)\n",
    "recall = tp/(tp+fn)\n",
    "\n",
    "print(\"Recall of the model is {:.2f}\".format(recall))\n",
    "print(\"Precision of the model is {:.2f}\".format(precision))"
   ]
  },
  {
   "cell_type": "code",
   "execution_count": 59,
   "metadata": {},
   "outputs": [
    {
     "data": {
      "text/plain": [
       "30"
      ]
     },
     "execution_count": 59,
     "metadata": {},
     "output_type": "execute_result"
    }
   ],
   "source": [
    "model2.epoch"
   ]
  },
  {
   "cell_type": "code",
   "execution_count": 30,
   "metadata": {},
   "outputs": [],
   "source": []
  },
  {
   "cell_type": "code",
   "execution_count": null,
   "metadata": {},
   "outputs": [],
   "source": []
  },
  {
   "cell_type": "code",
   "execution_count": null,
   "metadata": {},
   "outputs": [],
   "source": []
  },
  {
   "cell_type": "code",
   "execution_count": null,
   "metadata": {},
   "outputs": [],
   "source": []
  }
 ],
 "metadata": {
  "kernelspec": {
   "display_name": "Python 3",
   "language": "python",
   "name": "python3"
  },
  "language_info": {
   "codemirror_mode": {
    "name": "ipython",
    "version": 3
   },
   "file_extension": ".py",
   "mimetype": "text/x-python",
   "name": "python",
   "nbconvert_exporter": "python",
   "pygments_lexer": "ipython3",
   "version": "3.7.4"
  }
 },
 "nbformat": 4,
 "nbformat_minor": 4
}
