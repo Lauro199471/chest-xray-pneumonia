{
 "cells": [
  {
   "cell_type": "code",
   "execution_count": 1,
   "metadata": {},
   "outputs": [],
   "source": [
    "import torch\n",
    "import torch.nn as nn\n",
    "import torch.nn.functional as F\n",
    "from torch.utils.data import DataLoader\n",
    "from torchvision import datasets, transforms, models # add models to the list\n",
    "from torchvision.utils import make_grid\n",
    "import math\n",
    "import os\n",
    "\n",
    "import numpy as np\n",
    "import pandas as pd\n",
    "import matplotlib.pyplot as plt\n",
    "from sklearn.metrics import confusion_matrix\n",
    "import seaborn as sn\n",
    "%matplotlib inline\n",
    "\n",
    "# ignore harmless warnings\n",
    "import warnings\n",
    "warnings.filterwarnings(\"ignore\")"
   ]
  },
  {
   "cell_type": "code",
   "execution_count": 2,
   "metadata": {},
   "outputs": [],
   "source": [
    "device = \"cuda:0\" if torch.cuda.is_available() else \"cpu\""
   ]
  },
  {
   "cell_type": "code",
   "execution_count": 3,
   "metadata": {},
   "outputs": [],
   "source": [
    "train_transform = transforms.Compose([\n",
    "        transforms.RandomRotation(10),     \n",
    "        transforms.RandomHorizontalFlip(),\n",
    "        transforms.Resize((227,227)),\n",
    "        transforms.ToTensor(),\n",
    "    ])\n",
    "\n",
    "test_transform = transforms.Compose([\n",
    "        transforms.Resize((227,227)),\n",
    "        transforms.ToTensor(),\n",
    "    ])\n",
    "\n",
    "val_transform = transforms.Compose([\n",
    "        transforms.Resize((227,227)),\n",
    "        transforms.ToTensor(),\n",
    "    ])"
   ]
  },
  {
   "cell_type": "code",
   "execution_count": 4,
   "metadata": {},
   "outputs": [
    {
     "name": "stdout",
     "output_type": "stream",
     "text": [
      "['NORMAL', 'PNEUMONIA']\n",
      "Training images available: 5005\n",
      "testing images available:  624\n",
      "Validation images available:  227\n"
     ]
    }
   ],
   "source": [
    "root = '../chest_xray/'\n",
    "\n",
    "torch.manual_seed(101)\n",
    "train_data = datasets.ImageFolder(os.path.join(root, 'train'), transform=train_transform)\n",
    "test_data = datasets.ImageFolder(os.path.join(root, 'test'), transform=test_transform)\n",
    "val_data = datasets.ImageFolder(os.path.join(root, 'val'), transform=val_transform)\n",
    "\n",
    "torch.manual_seed(42)\n",
    "batch_size = 10\n",
    "train_loader = DataLoader(train_data, batch_size=batch_size, shuffle=True)\n",
    "test_loader = DataLoader(test_data, batch_size=len(test_data), shuffle=False)\n",
    "val_loader = DataLoader(val_data, batch_size=len(val_data), shuffle=False)\n",
    "\n",
    "train_loader.pin_memory = True\n",
    "test_loader.pin_memory = True\n",
    "val_loader.pin_memory = True\n",
    "\n",
    "class_names = train_data.classes\n",
    "\n",
    "print(class_names)\n",
    "print(f'Training images available: {len(train_data)}')\n",
    "print(f'testing images available:  {len(test_data)}')\n",
    "print(f'Validation images available:  {len(val_data)}')"
   ]
  },
  {
   "cell_type": "code",
   "execution_count": 5,
   "metadata": {},
   "outputs": [],
   "source": [
    "class AlexNet(nn.Module):\n",
    "\n",
    "    def __init__(self, num_classes=2):\n",
    "        super(AlexNet, self).__init__()\n",
    "        self.train_losses = []\n",
    "        self.train_correct = []\n",
    "        self.val_losses = []\n",
    "        self.val_correct = []\n",
    "        self.min_loss = 100\n",
    "        self.epoch = 0\n",
    "        self.features = nn.Sequential(\n",
    "            nn.Conv2d(3, 64, kernel_size=11, stride=4, padding=2),\n",
    "            nn.ReLU(inplace=True),\n",
    "            nn.MaxPool2d(kernel_size=3, stride=2),\n",
    "            nn.Conv2d(64, 192, kernel_size=5, padding=2),\n",
    "            nn.ReLU(inplace=True),\n",
    "            nn.MaxPool2d(kernel_size=3, stride=2),\n",
    "            nn.Conv2d(192, 384, kernel_size=3, padding=1),\n",
    "            nn.ReLU(inplace=True),\n",
    "            nn.Conv2d(384, 256, kernel_size=3, padding=1),\n",
    "            nn.ReLU(inplace=True),\n",
    "            nn.Conv2d(256, 256, kernel_size=3, padding=1),\n",
    "            nn.ReLU(inplace=True),\n",
    "            nn.MaxPool2d(kernel_size=3, stride=2),\n",
    "        )\n",
    "        self.avgpool = nn.AdaptiveAvgPool2d((6, 6))\n",
    "        self.classifier = nn.Sequential(\n",
    "            nn.Dropout(),\n",
    "            nn.Linear(256 * 6 * 6, 4096),\n",
    "            nn.ReLU(inplace=True),\n",
    "            nn.Dropout(),\n",
    "            nn.Linear(4096, 4096),\n",
    "            nn.ReLU(inplace=True),\n",
    "            nn.Linear(4096, num_classes),\n",
    "        )\n",
    "\n",
    "    def forward(self, x):\n",
    "        x = self.features(x)\n",
    "        x = self.avgpool(x)\n",
    "        x = torch.flatten(x, 1)\n",
    "        x = self.classifier(x)\n",
    "        return x\n"
   ]
  },
  {
   "cell_type": "code",
   "execution_count": 7,
   "metadata": {},
   "outputs": [
    {
     "data": {
      "text/plain": [
       "AlexNet(\n",
       "  (features): Sequential(\n",
       "    (0): Conv2d(3, 64, kernel_size=(11, 11), stride=(4, 4), padding=(2, 2))\n",
       "    (1): ReLU(inplace=True)\n",
       "    (2): MaxPool2d(kernel_size=3, stride=2, padding=0, dilation=1, ceil_mode=False)\n",
       "    (3): Conv2d(64, 192, kernel_size=(5, 5), stride=(1, 1), padding=(2, 2))\n",
       "    (4): ReLU(inplace=True)\n",
       "    (5): MaxPool2d(kernel_size=3, stride=2, padding=0, dilation=1, ceil_mode=False)\n",
       "    (6): Conv2d(192, 384, kernel_size=(3, 3), stride=(1, 1), padding=(1, 1))\n",
       "    (7): ReLU(inplace=True)\n",
       "    (8): Conv2d(384, 256, kernel_size=(3, 3), stride=(1, 1), padding=(1, 1))\n",
       "    (9): ReLU(inplace=True)\n",
       "    (10): Conv2d(256, 256, kernel_size=(3, 3), stride=(1, 1), padding=(1, 1))\n",
       "    (11): ReLU(inplace=True)\n",
       "    (12): MaxPool2d(kernel_size=3, stride=2, padding=0, dilation=1, ceil_mode=False)\n",
       "  )\n",
       "  (avgpool): AdaptiveAvgPool2d(output_size=(6, 6))\n",
       "  (classifier): Sequential(\n",
       "    (0): Dropout(p=0.5, inplace=False)\n",
       "    (1): Linear(in_features=9216, out_features=4096, bias=True)\n",
       "    (2): ReLU(inplace=True)\n",
       "    (3): Dropout(p=0.5, inplace=False)\n",
       "    (4): Linear(in_features=4096, out_features=4096, bias=True)\n",
       "    (5): ReLU(inplace=True)\n",
       "    (6): Linear(in_features=4096, out_features=2, bias=True)\n",
       "  )\n",
       ")"
      ]
     },
     "execution_count": 7,
     "metadata": {},
     "output_type": "execute_result"
    }
   ],
   "source": [
    "torch.manual_seed(200)\n",
    "model = AlexNet().cuda()\n",
    "criterion = nn.CrossEntropyLoss()\n",
    "optimizer = torch.optim.Adam(model.parameters(), lr=0.001)\n",
    "model.eval()"
   ]
  },
  {
   "cell_type": "code",
   "execution_count": 8,
   "metadata": {},
   "outputs": [
    {
     "name": "stdout",
     "output_type": "stream",
     "text": [
      "epoch:  0  batch:  500 [  5000/5005]  loss: 0.12578714                      accuracy:  79.460%\n",
      "Validation set: loss: 0.32984179                      accuracy:  85.903%\n",
      "epoch:  1  batch:  500 [  5000/5005]  loss: 0.17039903                      accuracy:  90.660%\n",
      "Validation set: loss: 0.20155600                      accuracy:  92.952%\n",
      "epoch:  2  batch:  500 [  5000/5005]  loss: 0.19208141                      accuracy:  92.500%\n",
      "Validation set: loss: 0.18247250                      accuracy:  91.630%\n",
      "epoch:  3  batch:  500 [  5000/5005]  loss: 0.00374347                      accuracy:  92.280%\n",
      "Validation set: loss: 0.20722917                      accuracy:  92.070%\n",
      "epoch:  4  batch:  500 [  5000/5005]  loss: 0.10556911                      accuracy:  93.400%\n",
      "Validation set: loss: 0.20732881                      accuracy:  90.749%\n",
      "epoch:  5  batch:  500 [  5000/5005]  loss: 0.08552003                      accuracy:  94.080%\n",
      "Validation set: loss: 0.19491856                      accuracy:  90.308%\n",
      "epoch:  6  batch:  500 [  5000/5005]  loss: 0.25070781                      accuracy:  94.260%\n",
      "Validation set: loss: 0.19847541                      accuracy:  90.308%\n",
      "epoch:  7  batch:  500 [  5000/5005]  loss: 0.18588583                      accuracy:  94.260%\n",
      "Validation set: loss: 0.16148373                      accuracy:  93.833%\n",
      "epoch:  8  batch:  500 [  5000/5005]  loss: 0.03421214                      accuracy:  90.600%\n",
      "Validation set: loss: 0.40652302                      accuracy:  85.903%\n",
      "epoch:  9  batch:  500 [  5000/5005]  loss: 0.27977180                      accuracy:  94.320%\n",
      "Validation set: loss: 0.19511709                      accuracy:  90.749%\n",
      "epoch: 10  batch:  500 [  5000/5005]  loss: 0.02230648                      accuracy:  94.900%\n",
      "Validation set: loss: 0.16874072                      accuracy:  92.952%\n",
      "epoch: 11  batch:  500 [  5000/5005]  loss: 0.00410833                      accuracy:  95.260%\n",
      "Validation set: loss: 0.18113576                      accuracy:  92.070%\n",
      "epoch: 12  batch:  500 [  5000/5005]  loss: 0.03607592                      accuracy:  95.480%\n",
      "Validation set: loss: 0.16604908                      accuracy:  92.511%\n",
      "epoch: 13  batch:  500 [  5000/5005]  loss: 0.00370500                      accuracy:  95.640%\n",
      "Validation set: loss: 0.14082408                      accuracy:  94.273%\n",
      "epoch: 14  batch:  500 [  5000/5005]  loss: 0.01841180                      accuracy:  95.720%\n",
      "Validation set: loss: 0.18620111                      accuracy:  92.952%\n",
      "epoch: 15  batch:  500 [  5000/5005]  loss: 0.12007463                      accuracy:  96.360%\n",
      "Validation set: loss: 0.15302499                      accuracy:  93.392%\n",
      "epoch: 16  batch:  500 [  5000/5005]  loss: 0.01880584                      accuracy:  96.220%\n",
      "Validation set: loss: 0.12219466                      accuracy:  94.714%\n",
      "epoch: 17  batch:  500 [  5000/5005]  loss: 0.61709952                      accuracy:  96.260%\n",
      "Validation set: loss: 0.12579769                      accuracy:  93.833%\n",
      "epoch: 18  batch:  500 [  5000/5005]  loss: 0.03996771                      accuracy:  96.080%\n",
      "Validation set: loss: 0.15903394                      accuracy:  92.952%\n",
      "epoch: 19  batch:  500 [  5000/5005]  loss: 0.07388563                      accuracy:  96.740%\n",
      "Validation set: loss: 0.16778895                      accuracy:  94.273%\n",
      "epoch: 20  batch:  500 [  5000/5005]  loss: 0.01009241                      accuracy:  96.920%\n",
      "Validation set: loss: 0.15181087                      accuracy:  92.952%\n",
      "epoch: 21  batch:  500 [  5000/5005]  loss: 0.02658114                      accuracy:  96.320%\n",
      "Validation set: loss: 0.11466184                      accuracy:  96.035%\n",
      "epoch: 22  batch:  500 [  5000/5005]  loss: 0.06377153                      accuracy:  96.440%\n",
      "Validation set: loss: 0.24517612                      accuracy:  89.868%\n",
      "epoch: 23  batch:  500 [  5000/5005]  loss: 0.56040186                      accuracy:  95.640%\n",
      "Validation set: loss: 0.14727320                      accuracy:  92.952%\n",
      "epoch: 24  batch:  500 [  5000/5005]  loss: 0.20429726                      accuracy:  96.740%\n",
      "Validation set: loss: 0.11372624                      accuracy:  94.714%\n",
      "epoch: 25  batch:  500 [  5000/5005]  loss: 0.00871493                      accuracy:  97.120%\n",
      "Validation set: loss: 0.12437928                      accuracy:  94.273%\n",
      "epoch: 26  batch:  500 [  5000/5005]  loss: 0.00042746                      accuracy:  97.040%\n",
      "Validation set: loss: 0.13679563                      accuracy:  95.595%\n",
      "epoch: 27  batch:  500 [  5000/5005]  loss: 0.03179116                      accuracy:  97.000%\n",
      "Validation set: loss: 0.20710351                      accuracy:  92.511%\n",
      "epoch: 28  batch:  500 [  5000/5005]  loss: 0.02022459                      accuracy:  96.800%\n",
      "Validation set: loss: 0.29546532                      accuracy:  90.308%\n",
      "epoch: 29  batch:  500 [  5000/5005]  loss: 0.00000720                      accuracy:  96.100%\n",
      "Validation set: loss: 0.48557568                      accuracy:  90.308%\n",
      "epoch: 30  batch:  500 [  5000/5005]  loss: 0.05261328                      accuracy:  96.020%\n",
      "Validation set: loss: 0.14184223                      accuracy:  95.154%\n",
      "epoch: 31  batch:  500 [  5000/5005]  loss: 0.01417730                      accuracy:  96.980%\n",
      "Validation set: loss: 0.16338256                      accuracy:  92.070%\n",
      "epoch: 32  batch:  500 [  5000/5005]  loss: 0.22146514                      accuracy:  97.000%\n",
      "Validation set: loss: 0.37107790                      accuracy:  85.903%\n",
      "epoch: 33  batch:  500 [  5000/5005]  loss: 0.29874152                      accuracy:  97.200%\n",
      "Validation set: loss: 0.10633188                      accuracy:  96.916%\n",
      "epoch: 34  batch:  500 [  5000/5005]  loss: 0.01671102                      accuracy:  97.280%\n",
      "Validation set: loss: 0.10725810                      accuracy:  96.035%\n",
      "epoch: 35  batch:  500 [  5000/5005]  loss: 0.00012064                      accuracy:  97.320%\n",
      "Validation set: loss: 0.15268140                      accuracy:  94.714%\n",
      "epoch: 36  batch:  500 [  5000/5005]  loss: 0.12417519                      accuracy:  97.240%\n",
      "Validation set: loss: 0.12285858                      accuracy:  95.595%\n",
      "epoch: 37  batch:  500 [  5000/5005]  loss: 0.08577697                      accuracy:  97.120%\n",
      "Validation set: loss: 0.10068390                      accuracy:  96.035%\n",
      "epoch: 38  batch:  500 [  5000/5005]  loss: 0.08453504                      accuracy:  97.160%\n",
      "Validation set: loss: 0.11340071                      accuracy:  95.154%\n",
      "epoch: 39  batch:  500 [  5000/5005]  loss: 0.11129705                      accuracy:  97.300%\n",
      "Validation set: loss: 0.38394007                      accuracy:  89.868%\n",
      "epoch: 40  batch:  500 [  5000/5005]  loss: 0.00054986                      accuracy:  96.880%\n",
      "Validation set: loss: 0.10734832                      accuracy:  95.595%\n",
      "epoch: 41  batch:  500 [  5000/5005]  loss: 0.16645586                      accuracy:  97.600%\n",
      "Validation set: loss: 0.15170075                      accuracy:  93.392%\n",
      "epoch: 42  batch:  500 [  5000/5005]  loss: 0.03377975                      accuracy:  96.540%\n",
      "Validation set: loss: 0.13910994                      accuracy:  94.273%\n",
      "epoch: 43  batch:  500 [  5000/5005]  loss: 0.00135887                      accuracy:  97.640%\n",
      "Validation set: loss: 0.09675602                      accuracy:  94.273%\n",
      "epoch: 44  batch:  500 [  5000/5005]  loss: 0.00355188                      accuracy:  97.800%\n",
      "Validation set: loss: 0.15138979                      accuracy:  95.154%\n",
      "epoch: 45  batch:  500 [  5000/5005]  loss: 0.01244228                      accuracy:  97.500%\n",
      "Validation set: loss: 0.15339592                      accuracy:  93.392%\n",
      "epoch: 46  batch:  500 [  5000/5005]  loss: 0.11794557                      accuracy:  97.240%\n",
      "Validation set: loss: 0.11521649                      accuracy:  94.273%\n",
      "epoch: 47  batch:  500 [  5000/5005]  loss: 0.25319377                      accuracy:  97.200%\n",
      "Validation set: loss: 0.10941926                      accuracy:  95.154%\n",
      "epoch: 48  batch:  500 [  5000/5005]  loss: 0.32584167                      accuracy:  97.660%\n",
      "Validation set: loss: 0.08734664                      accuracy:  96.916%\n",
      "epoch: 49  batch:  500 [  5000/5005]  loss: 0.00252633                      accuracy:  97.460%\n",
      "Validation set: loss: 0.12680818                      accuracy:  94.714%\n",
      "\n",
      "Duration: 4698 seconds\n"
     ]
    }
   ],
   "source": [
    "import time\n",
    "torch.manual_seed(321)\n",
    "\n",
    "start_time = time.time()\n",
    "\n",
    "epochs = 150\n",
    "\n",
    "# max_trn_batch = 10\n",
    "# max_val_batch = 2\n",
    "\n",
    "\n",
    "\n",
    "for i in range(epochs):\n",
    "    trn_corr = 0\n",
    "    tst_corr = 0\n",
    "    \n",
    "    # Run the training batches\n",
    "    for b, (X_train, y_train) in enumerate(train_loader):\n",
    "        X_train, y_train = X_train.to(device), y_train.to(device)\n",
    "        b+=1\n",
    "        \n",
    "        # Apply the model\n",
    "        y_pred = model(X_train)\n",
    "        loss = criterion(y_pred, y_train)\n",
    " \n",
    "        # Tally the number of correct predictions\n",
    "        predicted = torch.max(y_pred.data, 1)[1]\n",
    "        batch_corr = (predicted == y_train).sum()\n",
    "        trn_corr += batch_corr\n",
    "        \n",
    "        # Update parameters\n",
    "        optimizer.zero_grad()\n",
    "        loss.backward()\n",
    "        optimizer.step()\n",
    "        # Print interim results\n",
    "        if b % ((len(train_data)-len(train_data)%10)/batch_size) == 0 or b == (int(len(train_data)/batch_size)):\n",
    "            print(f'epoch: {model.epoch:2}  batch: {b:4} [{batch_size*b:6}/{len(train_data)}]  loss: {loss.item():10.8f}  \\\n",
    "                    accuracy: {trn_corr.item()*100/(batch_size*b):7.3f}%')\n",
    "\n",
    "    torch.cuda.empty_cache()\n",
    "    model.train_losses.append(loss)\n",
    "    model.train_correct.append(trn_corr)\n",
    "\n",
    "    # Run the valing batches\n",
    "    with torch.no_grad():\n",
    "        loss = 0\n",
    "        for b, (X_val, y_val) in enumerate(val_loader):\n",
    "            X_val, y_val = X_val.to(device), y_val.to(device)\n",
    "\n",
    "            # Apply the model\n",
    "            y_pred = model(X_val)\n",
    "            loss += criterion(y_pred, y_val)\n",
    "\n",
    "            # Tally the number of correct predictions\n",
    "            predicted = torch.max(y_pred.data, 1)[1] \n",
    "            tst_corr += (predicted == y_val).sum()\n",
    "\n",
    "    print(f'Validation set: loss: {loss.item():10.8f}  \\\n",
    "                    accuracy: {tst_corr.item()*100/(len(val_data)):7.3f}%')\n",
    "    if loss < model.min_loss:\n",
    "        torch.save(model, f'AlexnetEpoch{model.epoch}.pt')\n",
    "        model.min_loss = loss\n",
    "    model.val_losses.append(loss)\n",
    "    model.val_correct.append(tst_corr)\n",
    "    model.epoch += 1\n",
    "    torch.save(model, f'AlexnetCurrent.pt')\n",
    "    torch.cuda.empty_cache()\n",
    "\n",
    "torch.save(model, f'AlexnetFinal.pt')\n",
    "print(f'\\nDuration: {time.time() - start_time:.0f} seconds') # print the time elapsed"
   ]
  },
  {
   "cell_type": "code",
   "execution_count": 9,
   "metadata": {},
   "outputs": [
    {
     "data": {
      "image/png": "[encoded data removed]",
      "text/plain": [
       "<Figure size 432x288 with 1 Axes>"
      ]
     },
     "metadata": {
      "needs_background": "light"
     },
     "output_type": "display_data"
    }
   ],
   "source": [
    "plt.plot(model.train_losses, label='training loss')\n",
    "plt.plot(model.val_losses, label='validation loss')\n",
    "plt.title('Loss at the end of each epoch')\n",
    "plt.legend();\n",
    "plt.savefig(\"AlexnetLoss.png\")"
   ]
  },
  {
   "cell_type": "code",
   "execution_count": 10,
   "metadata": {},
   "outputs": [
    {
     "data": {
      "image/png": "[encoded data removed]",
      "text/plain": [
       "<Figure size 432x288 with 1 Axes>"
      ]
     },
     "metadata": {
      "needs_background": "light"
     },
     "output_type": "display_data"
    }
   ],
   "source": [
    "plt.plot([t.item()*100/len(train_data) for t in model.train_correct], label='training accuracy')\n",
    "plt.plot([t.item()*100/len(val_data) for t in model.val_correct], label='validation accuracy')\n",
    "plt.title('Accuracy at the end of each epoch')\n",
    "plt.legend();\n",
    "plt.savefig(\"AlexnetAcc.png\")"
   ]
  },
  {
   "cell_type": "code",
   "execution_count": 11,
   "metadata": {},
   "outputs": [
    {
     "name": "stdout",
     "output_type": "stream",
     "text": [
      "74.19871794871796\n"
     ]
    }
   ],
   "source": [
    "with torch.no_grad():\n",
    "    tst_corr = 0\n",
    "    for b, (X_test, y_test) in enumerate(test_loader):\n",
    "        X_test, y_test = X_test.to(device), y_test.to(device)\n",
    "        y_pred = model(X_test)\n",
    "        predicted = torch.max(y_pred.data, 1)[1] \n",
    "        tst_corr += (predicted == y_test).sum()\n",
    "print(tst_corr.item()/624*100)"
   ]
  },
  {
   "cell_type": "code",
   "execution_count": 16,
   "metadata": {},
   "outputs": [
    {
     "data": {
      "text/plain": [
       "AlexNet(\n",
       "  (features): Sequential(\n",
       "    (0): Conv2d(3, 64, kernel_size=(11, 11), stride=(4, 4), padding=(2, 2))\n",
       "    (1): ReLU(inplace=True)\n",
       "    (2): MaxPool2d(kernel_size=3, stride=2, padding=0, dilation=1, ceil_mode=False)\n",
       "    (3): Conv2d(64, 192, kernel_size=(5, 5), stride=(1, 1), padding=(2, 2))\n",
       "    (4): ReLU(inplace=True)\n",
       "    (5): MaxPool2d(kernel_size=3, stride=2, padding=0, dilation=1, ceil_mode=False)\n",
       "    (6): Conv2d(192, 384, kernel_size=(3, 3), stride=(1, 1), padding=(1, 1))\n",
       "    (7): ReLU(inplace=True)\n",
       "    (8): Conv2d(384, 256, kernel_size=(3, 3), stride=(1, 1), padding=(1, 1))\n",
       "    (9): ReLU(inplace=True)\n",
       "    (10): Conv2d(256, 256, kernel_size=(3, 3), stride=(1, 1), padding=(1, 1))\n",
       "    (11): ReLU(inplace=True)\n",
       "    (12): MaxPool2d(kernel_size=3, stride=2, padding=0, dilation=1, ceil_mode=False)\n",
       "  )\n",
       "  (avgpool): AdaptiveAvgPool2d(output_size=(6, 6))\n",
       "  (classifier): Sequential(\n",
       "    (0): Dropout(p=0.5, inplace=False)\n",
       "    (1): Linear(in_features=9216, out_features=4096, bias=True)\n",
       "    (2): ReLU(inplace=True)\n",
       "    (3): Dropout(p=0.5, inplace=False)\n",
       "    (4): Linear(in_features=4096, out_features=4096, bias=True)\n",
       "    (5): ReLU(inplace=True)\n",
       "    (6): Linear(in_features=4096, out_features=2, bias=True)\n",
       "  )\n",
       ")"
      ]
     },
     "execution_count": 16,
     "metadata": {},
     "output_type": "execute_result"
    }
   ],
   "source": [
    "model2 = torch.load('AlexnetEpoch48.pt')\n",
    "# model2= model\n",
    "# model2.load_state_dict(torch.load('AlexnetEpoch11.pt'))\n",
    "model2.eval()"
   ]
  },
  {
   "cell_type": "code",
   "execution_count": 17,
   "metadata": {},
   "outputs": [
    {
     "name": "stdout",
     "output_type": "stream",
     "text": [
      "74.19871794871796\n"
     ]
    },
    {
     "data": {
      "image/png": "[encoded data removed]",
      "text/plain": [
       "<Figure size 648x432 with 2 Axes>"
      ]
     },
     "metadata": {
      "needs_background": "light"
     },
     "output_type": "display_data"
    },
    {
     "data": {
      "text/plain": [
       "<Figure size 432x288 with 0 Axes>"
      ]
     },
     "metadata": {},
     "output_type": "display_data"
    }
   ],
   "source": [
    "test_load_all = DataLoader(test_data, batch_size=len(test_data), shuffle=False)\n",
    "\n",
    "with torch.no_grad():\n",
    "    correct = 0\n",
    "    for X_test, y_test in test_load_all:\n",
    "        X_test, y_test = X_test.to(device), y_test.to(device)\n",
    "        y_val = model2(X_test)\n",
    "        predicted = torch.max(y_val,1)[1]\n",
    "        correct += (predicted == y_test).sum()\n",
    "\n",
    "print(tst_corr.item()/624*100)\n",
    "arr = confusion_matrix(y_test.view(-1).cpu(), predicted.view(-1).cpu())\n",
    "df_cm = pd.DataFrame(arr, class_names, class_names)\n",
    "plt.figure(figsize = (9,6))\n",
    "sn.heatmap(df_cm, annot=True, fmt=\"d\", cmap='BuGn')\n",
    "plt.xlabel(\"prediction\")\n",
    "plt.ylabel(\"label (ground truth)\")\n",
    "plt.show();\n",
    "plt.savefig(\"AlexnetHeatMap.png\")"
   ]
  },
  {
   "cell_type": "code",
   "execution_count": 19,
   "metadata": {},
   "outputs": [
    {
     "data": {
      "text/plain": [
       "50"
      ]
     },
     "execution_count": 19,
     "metadata": {},
     "output_type": "execute_result"
    }
   ],
   "source": [
    "model.epoch"
   ]
  },
  {
   "cell_type": "code",
   "execution_count": null,
   "metadata": {},
   "outputs": [],
   "source": []
  }
 ],
 "metadata": {
  "kernelspec": {
   "display_name": "Python 3",
   "language": "python",
   "name": "python3"
  },
  "language_info": {
   "codemirror_mode": {
    "name": "ipython",
    "version": 3
   },
   "file_extension": ".py",
   "mimetype": "text/x-python",
   "name": "python",
   "nbconvert_exporter": "python",
   "pygments_lexer": "ipython3",
   "version": "3.7.4"
  }
 },
 "nbformat": 4,
 "nbformat_minor": 4
}
