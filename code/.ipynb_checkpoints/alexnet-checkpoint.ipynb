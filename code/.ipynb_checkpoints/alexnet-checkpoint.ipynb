{
 "cells": [
  {
   "cell_type": "code",
   "execution_count": 10,
   "metadata": {},
   "outputs": [],
   "source": [
    "import torch\n",
    "import torch.nn as nn\n",
    "import torch.nn.functional as F\n",
    "from torch.utils.data import DataLoader\n",
    "from torchvision import datasets, transforms, models # add models to the list\n",
    "from torchvision.utils import make_grid\n",
    "import math\n",
    "import os\n",
    "\n",
    "import numpy as np\n",
    "import pandas as pd\n",
    "import matplotlib.pyplot as plt\n",
    "from sklearn.metrics import confusion_matrix\n",
    "import seaborn as sn\n",
    "%matplotlib inline\n",
    "\n",
    "# ignore harmless warnings\n",
    "import warnings\n",
    "warnings.filterwarnings(\"ignore\")"
   ]
  },
  {
   "cell_type": "code",
   "execution_count": 2,
   "metadata": {},
   "outputs": [],
   "source": [
    "device = \"cuda:0\" if torch.cuda.is_available() else \"cpu\""
   ]
  },
  {
   "cell_type": "code",
   "execution_count": 3,
   "metadata": {},
   "outputs": [],
   "source": [
    "train_transform = transforms.Compose([\n",
    "        transforms.Resize((227,227)),\n",
    "        transforms.ToTensor(),\n",
    "    ])\n",
    "\n",
    "test_transform = transforms.Compose([\n",
    "        transforms.Resize((227,227)),\n",
    "        transforms.ToTensor(),\n",
    "    ])\n",
    "\n",
    "val_transform = transforms.Compose([\n",
    "        transforms.Resize((227,227)),\n",
    "        transforms.ToTensor(),\n",
    "    ])"
   ]
  },
  {
   "cell_type": "code",
   "execution_count": 4,
   "metadata": {},
   "outputs": [
    {
     "name": "stdout",
     "output_type": "stream",
     "text": [
      "['NORMAL', 'PNEUMONIA']\n",
      "Training images available: 5012\n",
      "testing images available:  624\n",
      "Validation images available:  222\n"
     ]
    }
   ],
   "source": [
    "root = '../chest_xray/'\n",
    "\n",
    "train_data = datasets.ImageFolder(os.path.join(root, 'train'), transform=train_transform)\n",
    "test_data = datasets.ImageFolder(os.path.join(root, 'test'), transform=test_transform)\n",
    "val_data = datasets.ImageFolder(os.path.join(root, 'val'), transform=val_transform)\n",
    "\n",
    "torch.manual_seed(42)\n",
    "train_loader = DataLoader(train_data, batch_size=100, shuffle=True)\n",
    "test_loader = DataLoader(test_data, batch_size=len(test_data), shuffle=False)\n",
    "val_loader = DataLoader(val_data, batch_size=len(val_data), shuffle=False)\n",
    "\n",
    "train_loader.pin_memory = True\n",
    "test_loader.pin_memory = True\n",
    "val_loader.pin_memory = True\n",
    "\n",
    "class_names = train_data.classes\n",
    "\n",
    "print(class_names)\n",
    "print(f'Training images available: {len(train_data)}')\n",
    "print(f'testing images available:  {len(test_data)}')\n",
    "print(f'Validation images available:  {len(val_data)}')"
   ]
  },
  {
   "cell_type": "code",
   "execution_count": 5,
   "metadata": {},
   "outputs": [],
   "source": [
    "class AlexNet(nn.Module):\n",
    "\n",
    "    def __init__(self, num_classes=2):\n",
    "        super(AlexNet, self).__init__()\n",
    "        self.features = nn.Sequential(\n",
    "            nn.Conv2d(3, 64, kernel_size=11, stride=4, padding=2),\n",
    "            nn.ReLU(inplace=True),\n",
    "            nn.MaxPool2d(kernel_size=3, stride=2),\n",
    "            nn.Conv2d(64, 192, kernel_size=5, padding=2),\n",
    "            nn.ReLU(inplace=True),\n",
    "            nn.MaxPool2d(kernel_size=3, stride=2),\n",
    "            nn.Conv2d(192, 384, kernel_size=3, padding=1),\n",
    "            nn.ReLU(inplace=True),\n",
    "            nn.Conv2d(384, 256, kernel_size=3, padding=1),\n",
    "            nn.ReLU(inplace=True),\n",
    "            nn.Conv2d(256, 256, kernel_size=3, padding=1),\n",
    "            nn.ReLU(inplace=True),\n",
    "            nn.MaxPool2d(kernel_size=3, stride=2),\n",
    "        )\n",
    "        self.avgpool = nn.AdaptiveAvgPool2d((6, 6))\n",
    "        self.classifier = nn.Sequential(\n",
    "            nn.Dropout(),\n",
    "            nn.Linear(256 * 6 * 6, 4096),\n",
    "            nn.ReLU(inplace=True),\n",
    "            nn.Dropout(),\n",
    "            nn.Linear(4096, 4096),\n",
    "            nn.ReLU(inplace=True),\n",
    "            nn.Linear(4096, num_classes),\n",
    "        )\n",
    "\n",
    "    def forward(self, x):\n",
    "        x = self.features(x)\n",
    "        x = self.avgpool(x)\n",
    "        x = torch.flatten(x, 1)\n",
    "        x = self.classifier(x)\n",
    "        return x\n"
   ]
  },
  {
   "cell_type": "code",
   "execution_count": null,
   "metadata": {},
   "outputs": [],
   "source": [
    "model = AlexNet().cuda()\n",
    "criterion = nn.CrossEntropyLoss()\n",
    "optimizer = torch.optim.Adam(model.parameters(), lr=0.001)\n",
    "\n",
    "train_losses = []\n",
    "val_losses = []\n",
    "train_correct = []\n",
    "val_correct = []\n",
    "min_loss = 100\n"
   ]
  },
  {
   "cell_type": "code",
   "execution_count": 15,
   "metadata": {},
   "outputs": [
    {
     "name": "stdout",
     "output_type": "stream",
     "text": [
      "epoch:  0  batch:    1 [   100/5012]  loss: 0.68916517                      accuracy:  83.000%\n",
      "epoch:  0  batch:   21 [  2100/5012]  loss: 0.48439357                      accuracy:  74.476%\n",
      "epoch:  0  batch:   41 [  4100/5012]  loss: 0.46405032                      accuracy:  74.293%\n",
      "epoch:  0  batch:   50 [  5000/5012]  loss: 0.69840372                      accuracy:  74.380%\n",
      "1 tensor(124, device='cuda:0')\n",
      "Validation set: loss: 0.63761288                      accuracy:  55.856%\n",
      "epoch:  1  batch:    1 [   100/5012]  loss: 0.51442152                      accuracy:  75.000%\n",
      "epoch:  1  batch:   21 [  2100/5012]  loss: 0.49262577                      accuracy:  75.524%\n",
      "epoch:  1  batch:   41 [  4100/5012]  loss: 0.48656747                      accuracy:  77.244%\n",
      "epoch:  1  batch:   50 [  5000/5012]  loss: 0.40677667                      accuracy:  77.640%\n",
      "1 tensor(150, device='cuda:0')\n",
      "Validation set: loss: 0.69007975                      accuracy:  67.568%\n",
      "epoch:  2  batch:    1 [   100/5012]  loss: 0.33708110                      accuracy:  92.000%\n",
      "epoch:  2  batch:   21 [  2100/5012]  loss: 0.29506549                      accuracy:  87.476%\n",
      "epoch:  2  batch:   41 [  4100/5012]  loss: 0.27658388                      accuracy:  87.927%\n",
      "epoch:  2  batch:   50 [  5000/5012]  loss: 0.27706859                      accuracy:  87.780%\n",
      "1 tensor(177, device='cuda:0')\n",
      "Validation set: loss: 0.43851173                      accuracy:  79.730%\n",
      "epoch:  3  batch:    1 [   100/5012]  loss: 0.19931665                      accuracy:  90.000%\n",
      "epoch:  3  batch:   21 [  2100/5012]  loss: 0.23136421                      accuracy:  90.952%\n",
      "epoch:  3  batch:   41 [  4100/5012]  loss: 0.09901854                      accuracy:  91.537%\n",
      "epoch:  3  batch:   50 [  5000/5012]  loss: 0.11584818                      accuracy:  92.060%\n",
      "1 tensor(207, device='cuda:0')\n",
      "Validation set: loss: 0.18327871                      accuracy:  93.243%\n",
      "epoch:  4  batch:    1 [   100/5012]  loss: 0.17777155                      accuracy:  95.000%\n",
      "epoch:  4  batch:   21 [  2100/5012]  loss: 0.23951788                      accuracy:  93.476%\n",
      "epoch:  4  batch:   41 [  4100/5012]  loss: 0.17716993                      accuracy:  94.146%\n",
      "epoch:  4  batch:   50 [  5000/5012]  loss: 0.09570401                      accuracy:  94.120%\n",
      "1 tensor(207, device='cuda:0')\n",
      "Validation set: loss: 0.21104139                      accuracy:  93.243%\n",
      "epoch:  5  batch:    1 [   100/5012]  loss: 0.09217531                      accuracy:  95.000%\n",
      "epoch:  5  batch:   21 [  2100/5012]  loss: 0.09028541                      accuracy:  94.810%\n",
      "epoch:  5  batch:   41 [  4100/5012]  loss: 0.14446670                      accuracy:  95.049%\n",
      "epoch:  5  batch:   50 [  5000/5012]  loss: 0.03024942                      accuracy:  95.220%\n",
      "1 tensor(209, device='cuda:0')\n",
      "Validation set: loss: 0.19784732                      accuracy:  94.144%\n",
      "epoch:  6  batch:    1 [   100/5012]  loss: 0.14878011                      accuracy:  97.000%\n",
      "epoch:  6  batch:   21 [  2100/5012]  loss: 0.05608087                      accuracy:  95.619%\n",
      "epoch:  6  batch:   41 [  4100/5012]  loss: 0.04629285                      accuracy:  95.732%\n",
      "epoch:  6  batch:   50 [  5000/5012]  loss: 0.02967663                      accuracy:  95.880%\n",
      "1 tensor(199, device='cuda:0')\n",
      "Validation set: loss: 0.30469429                      accuracy:  89.640%\n",
      "epoch:  7  batch:    1 [   100/5012]  loss: 0.05351454                      accuracy:  97.000%\n",
      "epoch:  7  batch:   21 [  2100/5012]  loss: 0.03221232                      accuracy:  95.381%\n",
      "epoch:  7  batch:   41 [  4100/5012]  loss: 0.09725298                      accuracy:  96.000%\n",
      "epoch:  7  batch:   50 [  5000/5012]  loss: 0.15742882                      accuracy:  95.960%\n",
      "1 tensor(212, device='cuda:0')\n",
      "Validation set: loss: 0.09545474                      accuracy:  95.495%\n",
      "epoch:  8  batch:    1 [   100/5012]  loss: 0.09678736                      accuracy:  98.000%\n",
      "epoch:  8  batch:   21 [  2100/5012]  loss: 0.10039606                      accuracy:  96.762%\n",
      "epoch:  8  batch:   41 [  4100/5012]  loss: 0.08738403                      accuracy:  96.927%\n",
      "epoch:  8  batch:   50 [  5000/5012]  loss: 0.05385126                      accuracy:  97.060%\n",
      "1 tensor(211, device='cuda:0')\n",
      "Validation set: loss: 0.12464904                      accuracy:  95.045%\n",
      "epoch:  9  batch:    1 [   100/5012]  loss: 0.09544576                      accuracy:  97.000%\n",
      "epoch:  9  batch:   21 [  2100/5012]  loss: 0.04745495                      accuracy:  97.238%\n",
      "epoch:  9  batch:   41 [  4100/5012]  loss: 0.08129261                      accuracy:  97.220%\n",
      "epoch:  9  batch:   50 [  5000/5012]  loss: 0.05123346                      accuracy:  97.120%\n",
      "1 tensor(209, device='cuda:0')\n",
      "Validation set: loss: 0.14729366                      accuracy:  94.144%\n",
      "\n",
      "Duration: 1010 seconds\n"
     ]
    }
   ],
   "source": [
    "import time\n",
    "start_time = time.time()\n",
    "\n",
    "\n",
    "epochs = 10\n",
    "\n",
    "# max_trn_batch = 10\n",
    "# max_val_batch = 2\n",
    "\n",
    "\n",
    "\n",
    "for i in range(epochs):\n",
    "    trn_corr = 0\n",
    "    tst_corr = 0\n",
    "    \n",
    "    # Run the training batches\n",
    "    for b, (X_train, y_train) in enumerate(train_loader):\n",
    "        X_train, y_train = X_train.to(device), y_train.to(device)\n",
    "        # Limit the number of batches\n",
    "#         if b == max_trn_batch:\n",
    "#             break\n",
    "        b+=1\n",
    "        \n",
    "        # Apply the model\n",
    "        y_pred = model(X_train)\n",
    "        loss = criterion(y_pred, y_train)\n",
    " \n",
    "        # Tally the number of correct predictions\n",
    "        predicted = torch.max(y_pred.data, 1)[1]\n",
    "        batch_corr = (predicted == y_train).sum()\n",
    "        trn_corr += batch_corr\n",
    "        \n",
    "        # Update parameters\n",
    "        optimizer.zero_grad()\n",
    "        loss.backward()\n",
    "        optimizer.step()\n",
    "\n",
    "        # Print interim results\n",
    "        if b % 20 == 1 or b == 50:\n",
    "            print(f'epoch: {i:2}  batch: {b:4} [{100*b:6}/5012]  loss: {loss.item():10.8f}  \\\n",
    "                    accuracy: {trn_corr.item()*100/(100*b):7.3f}%')\n",
    "\n",
    "    torch.cuda.empty_cache()\n",
    "    train_losses.append(loss)\n",
    "    train_correct.append(trn_corr)\n",
    "\n",
    "    # Run the valing batches\n",
    "    with torch.no_grad():\n",
    "        for b, (X_val, y_val) in enumerate(val_loader):\n",
    "            # Limit the number of batches\n",
    "            b+=1\n",
    "            X_val, y_val = X_val.to(device), y_val.to(device)\n",
    "#             if b == max_tst_batch:\n",
    "#                 break\n",
    "\n",
    "            # Apply the model\n",
    "            y_pred = model(X_val)\n",
    "\n",
    "            # Tally the number of correct predictions\n",
    "            predicted = torch.max(y_pred.data, 1)[1] \n",
    "            tst_corr += (predicted == y_val).sum()\n",
    "            print(b, tst_corr)\n",
    "    loss = criterion(y_pred, y_val)\n",
    "    print(f'Validation set: loss: {loss.item():10.8f}  \\\n",
    "                    accuracy: {tst_corr.item()*100/(222):7.3f}%')\n",
    "    if loss < min_loss:\n",
    "        torch.save(model.state_dict(), 'AlexNet.pt')\n",
    "        min_loss = loss\n",
    "    val_losses.append(loss)\n",
    "    val_correct.append(tst_corr)\n",
    "    torch.cuda.empty_cache()\n",
    "\n",
    "print(f'\\nDuration: {time.time() - start_time:.0f} seconds') # print the time elapsed"
   ]
  },
  {
   "cell_type": "code",
   "execution_count": 16,
   "metadata": {},
   "outputs": [
    {
     "data": {
      "image/png": "[encoded data removed]",
      "text/plain": [
       "<Figure size 432x288 with 1 Axes>"
      ]
     },
     "metadata": {
      "needs_background": "light"
     },
     "output_type": "display_data"
    }
   ],
   "source": [
    "plt.plot(train_losses, label='training loss')\n",
    "plt.plot(val_losses, label='validation loss')\n",
    "plt.title('Loss at the end of each epoch')\n",
    "plt.legend();"
   ]
  },
  {
   "cell_type": "code",
   "execution_count": null,
   "metadata": {},
   "outputs": [],
   "source": [
    "plt.plot([t/80 for t in train_correct], label='training accuracy')\n",
    "plt.plot([t/30 for t in test_correct], label='validation accuracy')\n",
    "plt.title('Accuracy at the end of each epoch')\n",
    "plt.legend();"
   ]
  },
  {
   "cell_type": "code",
   "execution_count": 11,
   "metadata": {},
   "outputs": [
    {
     "data": {
      "text/plain": [
       "AlexNet(\n",
       "  (features): Sequential(\n",
       "    (0): Conv2d(3, 64, kernel_size=(11, 11), stride=(4, 4), padding=(2, 2))\n",
       "    (1): ReLU(inplace=True)\n",
       "    (2): MaxPool2d(kernel_size=3, stride=2, padding=0, dilation=1, ceil_mode=False)\n",
       "    (3): Conv2d(64, 192, kernel_size=(5, 5), stride=(1, 1), padding=(2, 2))\n",
       "    (4): ReLU(inplace=True)\n",
       "    (5): MaxPool2d(kernel_size=3, stride=2, padding=0, dilation=1, ceil_mode=False)\n",
       "    (6): Conv2d(192, 384, kernel_size=(3, 3), stride=(1, 1), padding=(1, 1))\n",
       "    (7): ReLU(inplace=True)\n",
       "    (8): Conv2d(384, 256, kernel_size=(3, 3), stride=(1, 1), padding=(1, 1))\n",
       "    (9): ReLU(inplace=True)\n",
       "    (10): Conv2d(256, 256, kernel_size=(3, 3), stride=(1, 1), padding=(1, 1))\n",
       "    (11): ReLU(inplace=True)\n",
       "    (12): MaxPool2d(kernel_size=3, stride=2, padding=0, dilation=1, ceil_mode=False)\n",
       "  )\n",
       "  (avgpool): AdaptiveAvgPool2d(output_size=(6, 6))\n",
       "  (classifier): Sequential(\n",
       "    (0): Dropout(p=0.5, inplace=False)\n",
       "    (1): Linear(in_features=9216, out_features=4096, bias=True)\n",
       "    (2): ReLU(inplace=True)\n",
       "    (3): Dropout(p=0.5, inplace=False)\n",
       "    (4): Linear(in_features=4096, out_features=4096, bias=True)\n",
       "    (5): ReLU(inplace=True)\n",
       "    (6): Linear(in_features=4096, out_features=2, bias=True)\n",
       "  )\n",
       ")"
      ]
     },
     "execution_count": 11,
     "metadata": {},
     "output_type": "execute_result"
    }
   ],
   "source": [
    "model2 = AlexNet().cuda()\n",
    "model2.load_state_dict(torch.load('AlexNet.pt'))\n",
    "model2.eval()"
   ]
  },
  {
   "cell_type": "code",
   "execution_count": 9,
   "metadata": {},
   "outputs": [
    {
     "name": "stdout",
     "output_type": "stream",
     "text": [
      "72.59615384615384\n"
     ]
    }
   ],
   "source": [
    "with torch.no_grad():\n",
    "    tst_corr = 0\n",
    "    for b, (X_test, y_test) in enumerate(test_loader):\n",
    "        \n",
    "        X_test, y_test = X_test.to(device), y_test.to(device)\n",
    "        y_pred = model2(X_test)\n",
    "        predicted = torch.max(y_pred.data, 1)[1] \n",
    "        tst_corr += (predicted == y_test).sum()\n",
    "print(tst_corr.item()/624*100)"
   ]
  },
  {
   "cell_type": "code",
   "execution_count": 12,
   "metadata": {},
   "outputs": [
    {
     "data": {
      "image/png": "[encoded data removed]",
      "text/plain": [
       "<Figure size 648x432 with 2 Axes>"
      ]
     },
     "metadata": {
      "needs_background": "light"
     },
     "output_type": "display_data"
    }
   ],
   "source": [
    "test_load_all = DataLoader(test_data, batch_size=len(test_data), shuffle=False)\n",
    "\n",
    "with torch.no_grad():\n",
    "    correct = 0\n",
    "    for X_test, y_test in test_load_all:\n",
    "        X_test, y_test = X_test.to(device), y_test.to(device)\n",
    "        y_val = model2(X_test)\n",
    "        predicted = torch.max(y_val,1)[1]\n",
    "        correct += (predicted == y_test).sum()\n",
    "\n",
    "\n",
    "arr = confusion_matrix(y_test.view(-1).cpu(), predicted.view(-1).cpu())\n",
    "df_cm = pd.DataFrame(arr, class_names, class_names)\n",
    "plt.figure(figsize = (9,6))\n",
    "sn.heatmap(df_cm, annot=True, fmt=\"d\", cmap='BuGn')\n",
    "plt.xlabel(\"prediction\")\n",
    "plt.ylabel(\"label (ground truth)\")\n",
    "plt.show();"
   ]
  },
  {
   "cell_type": "code",
   "execution_count": null,
   "metadata": {},
   "outputs": [],
   "source": []
  }
 ],
 "metadata": {
  "kernelspec": {
   "display_name": "Python 3",
   "language": "python",
   "name": "python3"
  },
  "language_info": {
   "codemirror_mode": {
    "name": "ipython",
    "version": 3
   },
   "file_extension": ".py",
   "mimetype": "text/x-python",
   "name": "python",
   "nbconvert_exporter": "python",
   "pygments_lexer": "ipython3",
   "version": "3.7.4"
  }
 },
 "nbformat": 4,
 "nbformat_minor": 4
}
